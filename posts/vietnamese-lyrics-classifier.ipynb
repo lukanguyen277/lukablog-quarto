{
  "cells": [
    {
      "cell_type": "raw",
      "metadata": {},
      "source": [
        "---\n",
        "title: \"Vietnamese Lyrics Classification\"\n",
        "author: \"Luka Nguyen\"\n",
        "date: \"2022-10-21\"\n",
        "categories: [code,Classification,decision tree]\n",
        "image: \"vietnamese-lyrics-classifier.png\"\n",
        "toc: true\n",
        "number-sections: true\n",
        "---"
      ]
    },
    {
      "cell_type": "markdown",
      "metadata": {},
      "source": [
        "# Phân loại chủ đề bài hát tiếng Việt\n",
        "> Liệu rằng phần lời của một bài hát có đầy đủ thông tin để chúng ta phân loại chủ đề bài hát đó? Trong bài viết này, chúng ta sẽ dùng machine learning để trả lời câu hỏi này với các phương pháp Logistic Regression (PyTorch) / Naive Bayes / Genetic Algorithm / Decision Tree nhé!"
      ]
    },
    {
      "cell_type": "markdown",
      "metadata": {
        "id": "IsdIToi_xoQk"
      },
      "source": [
        "# Tải và xử lý dữ liệu"
      ]
    },
    {
      "cell_type": "markdown",
      "metadata": {
        "id": "M18gAHfTxwtE"
      },
      "source": [
        "## Trích xuất dữ liệu\n",
        "Cảm ơn loibaihathot.com đã có một kho lời bài hát khá nhiều và dễ trích xuất.\n",
        "Tất cả những gì chúng ta cần chỉ là thư viện requests để lấy nội dung html của trang web.\n",
        "Và, BeautifulSoup để parse nội dung html ra element cho dễ trích xuất."
      ]
    },
    {
      "cell_type": "code",
      "execution_count": 1,
      "metadata": {
        "id": "KhBGjsCoxuCE"
      },
      "outputs": [],
      "source": [
        "# Import thư viện cần thiết\n",
        "\n",
        "import requests\n",
        "import time\n",
        "import csv\n",
        "import re\n",
        "from bs4 import BeautifulSoup"
      ]
    },
    {
      "cell_type": "markdown",
      "metadata": {},
      "source": [
        "Xác định 1 số chủ đề có sẵn trên trang web để tài về.\n",
        "Base URL sẽ là url gốc, từ đây chúng ta replace {genre} để tải lời cho bài hát thuộc chủ đề tương ứng.\n",
        "\n",
        "Lưu ý: Ở đây mình dùng từ genre không sát nghĩa \"chủ đề\" đâu nghen."
      ]
    },
    {
      "cell_type": "code",
      "execution_count": 2,
      "metadata": {
        "id": "2NXZjPuYxu0N"
      },
      "outputs": [],
      "source": [
        "genre_list = ['cach-mang', 'que-huong', 'thieu-nhi', 'tre']\n",
        "\n",
        "base_url = \"https://loibaihathot.com/{genre}\""
      ]
    },
    {
      "cell_type": "markdown",
      "metadata": {},
      "source": [
        "Tiếp theo, chúng ta tải hết tất cả các URL của các bài hát, phân loại theo chủ đề"
      ]
    },
    {
      "cell_type": "code",
      "execution_count": 3,
      "metadata": {
        "id": "7i2UQ5_p1b5t"
      },
      "outputs": [],
      "source": [
        "lyric_url_list = {}\n",
        "\n",
        "for genre in genre_list:\n",
        "  url = base_url.format(genre=genre)\n",
        "  html_text = requests.get(url).text\n",
        "  soup = BeautifulSoup(html_text, 'html.parser')\n",
        "  all_links = list(map(lambda e: e['href'], soup.find_all('a')))\n",
        "  lyric_url_list[genre] = list(set(filter(lambda url: '/20' in url, all_links)))"
      ]
    },
    {
      "cell_type": "markdown",
      "metadata": {},
      "source": [
        "Tạo thư mục data để lưu trữ dữ liệu, tránh việc phải chạy Trích xuất lại lần nữa:"
      ]
    },
    {
      "cell_type": "code",
      "execution_count": 4,
      "metadata": {
        "id": "ta38Iv3u2Js9"
      },
      "outputs": [],
      "source": [
        "import os\n",
        "\n",
        "DATA_FOLDER = 'data/'\n",
        "\n",
        "def create_path_if_nonexist(path):\n",
        "  if not os.path.exists(path):\n",
        "    os.mkdir(path)\n",
        "\n",
        "create_path_if_nonexist(DATA_FOLDER)"
      ]
    },
    {
      "cell_type": "markdown",
      "metadata": {
        "id": "etUif1wEalW2"
      },
      "source": [
        "Viết hàm để tải nội dung lời bài hát cho một bài hát, với input là đường dẫn đến bài hát đó:"
      ]
    },
    {
      "cell_type": "code",
      "execution_count": 10,
      "metadata": {
        "id": "iUQYZL9-2wmP"
      },
      "outputs": [],
      "source": [
        "import re\n",
        "\n",
        "def download_lyric(song_url):\n",
        "  html_text = requests.get(song_url).text\n",
        "  soup = BeautifulSoup(html_text, 'html.parser')\n",
        "  lyric = soup.find('div', class_=\"entry-content content mt-6\").get_text(separator = '\\n', strip = True)\n",
        "  lyric = re.sub('\\n.+','',lyric, count=3).strip()\n",
        "  return lyric"
      ]
    },
    {
      "cell_type": "markdown",
      "metadata": {
        "id": "v7G-zuJT2zpB"
      },
      "source": [
        "Còn đây là hàm để tải lời nhiều bài cùng 1 lúc, hàm này sẽ dùng để phân luồng threading -> tăng tốc download:"
      ]
    },
    {
      "cell_type": "code",
      "execution_count": 11,
      "metadata": {
        "id": "mIT6PoZG3ijb"
      },
      "outputs": [],
      "source": [
        "def download_songs(song_urls, genre):\n",
        "  full_path = os.path.join(DATA_FOLDER, genre)\n",
        "  create_path_if_nonexist(full_path)\n",
        "  for url in song_urls:\n",
        "    lyric = download_lyric(url)\n",
        "    if len(lyric) < 10:\n",
        "      continue\n",
        "    file_name =re.findall('/[^\\/]+$', url)[0][1:-5]\n",
        "    with open(f'{full_path}/{file_name}.txt', 'w') as f:\n",
        "      f.write(lyric)"
      ]
    },
    {
      "cell_type": "markdown",
      "metadata": {},
      "source": [
        "Với mỗi chủ đề, chúng ta sẽ dùng threading để tải hết lời bài hát về.\n",
        "Để tải nhanh hơn, chúng ta có thể chia thêm nhiều threads con nữa. Nhưng mình muốn mọi thứ đơn giản trước đã:"
      ]
    },
    {
      "cell_type": "code",
      "execution_count": 12,
      "metadata": {
        "id": "36o_O2jNaJdy"
      },
      "outputs": [
        {
          "name": "stdout",
          "output_type": "stream",
          "text": [
            "Download starting...\n",
            "Download finished!\n"
          ]
        }
      ],
      "source": [
        "import threading\n",
        "\n",
        "thread_list = []\n",
        "\n",
        "# create list of threads\n",
        "for genre in genre_list:\n",
        "  thread = threading.Thread(target=download_songs, args=(lyric_url_list[genre],genre))\n",
        "  thread_list.append(thread)\n",
        "\n",
        "print(\"Download starting...\")\n",
        "# start each thread\n",
        "for thread in thread_list:\n",
        "  thread.start()\n",
        "\n",
        "# wait for all to finish\n",
        "for thread in thread_list:\n",
        "  thread.join()\n",
        "\n",
        "# successfully excecuted\n",
        "print(\"Download finished!\")"
      ]
    },
    {
      "cell_type": "markdown",
      "metadata": {},
      "source": [
        "## Tiền xử lý (Pre-processing)"
      ]
    },
    {
      "cell_type": "markdown",
      "metadata": {},
      "source": [
        "Sau khi mình và train thử cho bộ dữ liệu ban đầu thì thấy độ chính xác đều dưới 20%. Kiểm tra lại thì thấy có nhiều bài download về vào sai thư mục chủ đề. Điều này có thể gây nhiễu dữ liệu, nên chúng ta sẽ xóa thủ xông những files sau để tăng độ chính xác khi huấn luyện:"
      ]
    },
    {
      "cell_type": "code",
      "execution_count": 13,
      "metadata": {
        "id": "emmueEOq1PUW"
      },
      "outputs": [],
      "source": [
        "# Clean-up data\n",
        "\n",
        "to_delete = {\n",
        "    \"thieu-nhi\":[\n",
        "        \"cam-on-nguoi-da-roi-xa-toi.txt\",\n",
        "        \"chac-ai-do-se-ve.txt\",\n",
        "        \"dung-tin-em-manh-me.txt\",\n",
        "        \"hay-ra-khoi-nguoi-do-di.txt\",\n",
        "        \"khuon-mat-dang-thuong.txt\",\n",
        "    ],\n",
        "    \n",
        "    \"cach-mang\":[\n",
        "        \"cam-on-nguoi-da-roi-xa-toi.txt\",\n",
        "        \"chac-ai-do-se-ve.txt\",\n",
        "        \"dung-tin-em-manh-me.txt\",\n",
        "        \"hay-ra-khoi-nguoi-do-di.txt\",\n",
        "        \"khuon-mat-dang-thuong.txt\",\n",
        "    ],\n",
        "    \n",
        "    \"que-huong\":[\n",
        "        \"cam-on-nguoi-da-roi-xa-toi.txt\",\n",
        "        \"chac-ai-do-se-ve.txt\",\n",
        "        \"dung-tin-em-manh-me.txt\",\n",
        "        \"hay-ra-khoi-nguoi-do-di.txt\",\n",
        "        \"khuon-mat-dang-thuong.txt\",\n",
        "    ],\n",
        "\n",
        "}\n",
        "\n",
        "for subfolder, filenames in to_delete.items():\n",
        "    for filename in filenames:\n",
        "      try:\n",
        "        filepath = f\"{DATA_FOLDER}{subfolder}/{filename}\"\n",
        "        os.remove(filepath)\n",
        "      except Exception as e:\n",
        "        print(e)"
      ]
    },
    {
      "cell_type": "markdown",
      "metadata": {},
      "source": [
        "Cài thêm thư viện underthesea để hỗ trợ tokenize ngôn ngữ Việt:"
      ]
    },
    {
      "cell_type": "code",
      "execution_count": null,
      "metadata": {},
      "outputs": [],
      "source": [
        "!pip install -q underthesea==1.3.5a3"
      ]
    },
    {
      "cell_type": "markdown",
      "metadata": {},
      "source": [
        "Tiền xử lý lời bài hát, chủ yếu là xóa ký tự đặc biệt:"
      ]
    },
    {
      "cell_type": "code",
      "execution_count": 7,
      "metadata": {},
      "outputs": [
        {
          "data": {
            "text/plain": [
              "'ngày mai 13 em đi'"
            ]
          },
          "execution_count": 7,
          "metadata": {},
          "output_type": "execute_result"
        }
      ],
      "source": [
        "def preprocess_lyric(text):\n",
        "  # remove special characters\n",
        "  import re\n",
        "  text = re.sub('[^\\w\\s]','', text).lower()\n",
        "  return text\n",
        "\n",
        "preprocess_lyric('Ngày mai??!! 13 em đi!')"
      ]
    },
    {
      "cell_type": "markdown",
      "metadata": {
        "id": "W5Xm-ryCoPZN"
      },
      "source": [
        "\n",
        "# Phương pháp 1: Logistic Regression với PyTorch"
      ]
    },
    {
      "cell_type": "markdown",
      "metadata": {},
      "source": [
        "Dữ liệu text không thể huấn luyện trực tiếp được. Vì vậy chúng ta sẽ phải xây dựng features cho data.\n",
        "Ở đây, với mỗi lyrics, mình sẽ đếm tần suất của mỗi từ trong lyrics xuất hiện trong từng label (hay genre)."
      ]
    },
    {
      "cell_type": "code",
      "execution_count": 5,
      "metadata": {
        "id": "Vn8ihI9Gj0CG"
      },
      "outputs": [],
      "source": [
        "import numpy as np\n",
        "\n",
        "n_labels = len(genre_list)\n",
        "n_features = 1 + n_labels # cộng 1 vì thêm bias"
      ]
    },
    {
      "cell_type": "markdown",
      "metadata": {},
      "source": [
        "Xây dựng từ điền freqs để đếm tần suất của mỗi từ theo từng label.\n",
        "freqs sẽ sử dụng để tạo features ở bước sau:"
      ]
    },
    {
      "cell_type": "code",
      "execution_count": 8,
      "metadata": {
        "id": "foRwQScbjMP9"
      },
      "outputs": [],
      "source": [
        "import glob\n",
        "from underthesea import word_tokenize\n",
        "# build freq dict with key pair as (word, label)\n",
        "freqs = {}\n",
        "for label, genre in enumerate(genre_list):\n",
        "  lyric_folder = os.path.join(DATA_FOLDER, genre)\n",
        "  for filepath in glob.glob(f\"{lyric_folder}/*txt\"):\n",
        "    with open(filepath, 'r') as file:\n",
        "      lyric = preprocess_lyric(file.read())\n",
        "      lyric_tokens = word_tokenize(lyric)\n",
        "      for word in lyric_tokens:\n",
        "        pair = (word, label)\n",
        "        if pair not in freqs:\n",
        "          freqs[pair] = 1\n",
        "        else:\n",
        "          freqs[pair] += 1"
      ]
    },
    {
      "cell_type": "markdown",
      "metadata": {},
      "source": [
        "Viết hàm chuyển lời bài hát thành features."
      ]
    },
    {
      "cell_type": "code",
      "execution_count": 9,
      "metadata": {},
      "outputs": [],
      "source": [
        "def lyric_to_features(lyric_raw, n_labels):\n",
        "  lyric = preprocess_lyric(lyric_raw)\n",
        "  lyric_tokens = word_tokenize(lyric)\n",
        "\n",
        "  features = [0] * n_labels\n",
        "  for word in lyric_tokens:\n",
        "    for label in range(n_labels):\n",
        "      pair = (word, label)\n",
        "      count = freqs.get(pair, 0)\n",
        "      features[label] += count\n",
        "  features = [1] + features\n",
        "  # print(features)\n",
        "  return features"
      ]
    },
    {
      "cell_type": "markdown",
      "metadata": {},
      "source": [
        "Đọc data từ ổ cứng và chuyển chúng thành features và labels:"
      ]
    },
    {
      "cell_type": "code",
      "execution_count": 10,
      "metadata": {},
      "outputs": [],
      "source": [
        "data = [] # features of songs\n",
        "\n",
        "\n",
        "for lyric_label, genre in enumerate(genre_list):\n",
        "  lyric_folder = os.path.join(DATA_FOLDER, genre)\n",
        "  for filepath in glob.glob(f\"{lyric_folder}/*txt\"):\n",
        "    with open(filepath, 'r') as file:\n",
        "      lyric_raw = file.read()\n",
        "      features = lyric_to_features(lyric_raw, n_labels) + [lyric_label]\n",
        "      data.append(features)"
      ]
    },
    {
      "cell_type": "markdown",
      "metadata": {},
      "source": [
        "Sau đó, ta trộn và chia data thành X và y là những numpy array để dễ thao tác và train so với list truyền thống."
      ]
    },
    {
      "cell_type": "code",
      "execution_count": 11,
      "metadata": {},
      "outputs": [],
      "source": [
        "data = np.array(data)\n",
        "np.random.shuffle(data)\n",
        "\n",
        "y = data[:,-1]\n",
        "X = data[:,:-1]"
      ]
    },
    {
      "cell_type": "markdown",
      "metadata": {},
      "source": [
        "Trộn (shuffle) và chia data thành 2 tập train và test."
      ]
    },
    {
      "cell_type": "code",
      "execution_count": 12,
      "metadata": {
        "id": "G6KVTfu9kJnT"
      },
      "outputs": [],
      "source": [
        "import torch\n",
        "import matplotlib.pyplot as plt\n",
        "from torch import nn\n",
        "from torch import optim\n",
        "from torchvision import datasets, transforms\n",
        "from sklearn.model_selection import train_test_split\n",
        "\n",
        "X_train, X_test, y_train, y_test = train_test_split(X, y, test_size=0.2, random_state=42)\n",
        "X_train_tensor = torch.from_numpy(X_train).float()\n",
        "y_train_tensor = torch.as_tensor(y_train, dtype=torch.int64)\n",
        "y_train_onehot_tensor = torch.nn.functional.one_hot(y_train_tensor, num_classes=n_labels).float()"
      ]
    },
    {
      "cell_type": "markdown",
      "metadata": {},
      "source": [
        "## Xây dựng mô hình"
      ]
    },
    {
      "cell_type": "markdown",
      "metadata": {},
      "source": [
        "Chúng ta import những library cần thiết của PyTorch"
      ]
    },
    {
      "cell_type": "code",
      "execution_count": 13,
      "metadata": {
        "id": "LaIZiSgQoQOm"
      },
      "outputs": [
        {
          "data": {
            "text/plain": [
              "<torch._C.Generator at 0x7f4a9c335130>"
            ]
          },
          "execution_count": 13,
          "metadata": {},
          "output_type": "execute_result"
        }
      ],
      "source": [
        "import torch\n",
        "import matplotlib.pyplot as plt\n",
        "from torch import nn\n",
        "from torch import optim\n",
        "from torchvision import datasets, transforms\n",
        "\n",
        "seed = 69\n",
        "torch.manual_seed(seed)"
      ]
    },
    {
      "cell_type": "markdown",
      "metadata": {},
      "source": [
        "Khai báo mô hình gồm 2 lớp:\n",
        "1. Linear: Nhận input là tensor của bài hát được tokenize thành tensor có n_features và output là tensor có số chiều là n_labels tương ứng với số lượng chủ đề cần phân loại\n",
        "2. LogSoftMax: Đây là dạng activation function cho bài toán phân loại đa lớp"
      ]
    },
    {
      "cell_type": "code",
      "execution_count": 14,
      "metadata": {
        "id": "uaUafNJooaL9"
      },
      "outputs": [],
      "source": [
        "model = nn.Sequential(nn.Linear(n_features, n_labels),nn.LogSoftmax(dim=1))\n",
        "\n",
        "criterion = nn.CrossEntropyLoss()\n",
        "optimizer = optim.SGD(model.parameters(), lr=0.001)"
      ]
    },
    {
      "cell_type": "markdown",
      "metadata": {},
      "source": [
        "Hàm tính độ chính xác của mô hình:"
      ]
    },
    {
      "cell_type": "code",
      "execution_count": 15,
      "metadata": {
        "id": "5U4YyP3_tPvL"
      },
      "outputs": [],
      "source": [
        "def calculate_accuracy(model, X, labels):\n",
        "  y_hat = model(torch.as_tensor(X).float())\n",
        "  preds = y_hat.max(axis=1, keepdim=True)[1].numpy().squeeze()\n",
        "  correct = np.sum(preds == labels)\n",
        "  accuracy = correct / len(labels)\n",
        "  return accuracy"
      ]
    },
    {
      "cell_type": "markdown",
      "metadata": {},
      "source": [
        "Tiến hành train model"
      ]
    },
    {
      "cell_type": "code",
      "execution_count": 16,
      "metadata": {
        "id": "oP2zBYdOooGS"
      },
      "outputs": [
        {
          "name": "stdout",
          "output_type": "stream",
          "text": [
            "Training epoch 0 : loss: 9201.797; accuracy: 40.00%\n",
            "Training epoch 100 : loss: 16386.709; accuracy: 76.67%\n",
            "Training epoch 200 : loss: 6421.723; accuracy: 56.67%\n",
            "Training epoch 300 : loss: 906.633; accuracy: 86.67%\n"
          ]
        }
      ],
      "source": [
        "epochs = 300\n",
        "\n",
        "losses = []\n",
        "accs = []\n",
        "for e in range(epochs+1):\n",
        "  optimizer.zero_grad()\n",
        "  # tính y_hat\n",
        "  output = model(X_train_tensor)\n",
        "\n",
        "  # tính loss\n",
        "  loss = criterion(output, y_train_onehot_tensor)\n",
        "\n",
        "  # tính gradient\n",
        "  loss.backward()\n",
        "\n",
        "  # tối ưu gradient\n",
        "  optimizer.step()\n",
        "\n",
        "  # cập nhật loss\n",
        "  running_loss = loss.item()\n",
        "  losses.append(running_loss)\n",
        "\n",
        "  # tính accuracy\n",
        "  acc = calculate_accuracy(model, X_test, y_test)\n",
        "  accs.append(acc)\n",
        "\n",
        "  # in thông số training\n",
        "  if e % 100 == 0:\n",
        "    print(f\"Training epoch {e} : loss: {running_loss:.3f}; accuracy: {acc:.2%}\")"
      ]
    },
    {
      "cell_type": "markdown",
      "metadata": {},
      "source": [
        "Mô hình chúng ta sau khi train 300 epoch có accuracy 86.67%."
      ]
    },
    {
      "cell_type": "code",
      "execution_count": 40,
      "metadata": {},
      "outputs": [
        {
          "data": {
            "image/png": "[encoded data removed]",
            "text/plain": [
              "<Figure size 640x480 with 1 Axes>"
            ]
          },
          "metadata": {},
          "output_type": "display_data"
        }
      ],
      "source": [
        "plt.plot(losses)\n",
        "plt.xlabel('epoch')\n",
        "plt.ylabel('Loss')\n",
        "plt.title('Model losses over time (epoch)')\n",
        "plt.show()"
      ]
    },
    {
      "cell_type": "code",
      "execution_count": 41,
      "metadata": {},
      "outputs": [
        {
          "data": {
            "image/png": "[encoded data removed]",
            "text/plain": [
              "<Figure size 640x480 with 1 Axes>"
            ]
          },
          "metadata": {},
          "output_type": "display_data"
        }
      ],
      "source": [
        "plt.plot(accs)\n",
        "plt.xlabel('epochs')\n",
        "plt.ylabel('Loss')\n",
        "plt.title('Model accuracy over time (epoch)')\n",
        "plt.show()"
      ]
    },
    {
      "cell_type": "markdown",
      "metadata": {},
      "source": [
        "Hàm sau dùng để phân loại lời bài hát bất kỳ."
      ]
    },
    {
      "cell_type": "code",
      "execution_count": 19,
      "metadata": {
        "id": "AFsk8_aoxi42"
      },
      "outputs": [],
      "source": [
        "def predict_label(model, lyric):\n",
        "  x = lyric_to_features(lyric, n_labels)\n",
        "  y_hat = model(torch.as_tensor(np.array([x])).float())\n",
        "  pred = y_hat.max(axis=1, keepdim=True)[1].numpy().squeeze()\n",
        "  return genre_list[pred]"
      ]
    },
    {
      "cell_type": "markdown",
      "metadata": {
        "id": "PlMIb1jJ6pjZ"
      },
      "source": [
        "## Predict\n",
        "\n",
        "Ở đây chúng ta sẽ phân loại thử một số bài hát một ách cách thủ công nhé."
      ]
    },
    {
      "cell_type": "markdown",
      "metadata": {},
      "source": [
        "Đây là bài \"Hát về anh\", thuộc thể loại cách mạng.\n",
        "Mô hình đã phân loại chính xác trường hợp này."
      ]
    },
    {
      "cell_type": "code",
      "execution_count": 20,
      "metadata": {
        "id": "pKO-awBT4iOb"
      },
      "outputs": [
        {
          "data": {
            "text/plain": [
              "'cach-mang'"
            ]
          },
          "execution_count": 20,
          "metadata": {},
          "output_type": "execute_result"
        }
      ],
      "source": [
        "lyric = '''Hát Về Anh\n",
        "Một ba lô, cây súng trên vai,\n",
        "Người chiến sĩ quen với gian lao,\n",
        "Ngày dài đêm thâu vẫn có những người lính trẻ,\n",
        "Nặng tình quê hương canh giữ trên miền đất mẹ.\n",
        "Rừng âm u, mây núi mênh mông\n",
        "Ngày nắng cháy, đêm giá lạnh đầy.\n",
        "Rừng mờ sương khuya bóng tối quân thù trước mặt,\n",
        "Nặng tình non sông anh dâng trọn tuổi đời thanh xuân.\n",
        "Cho em thơ ngủ ngon và vui bước sớm hôm đến trường\n",
        "Cho yên vui mùa xuân đôi lứa còn hẹn hò ước mơ\n",
        "Ðã có những hy sinh khó nói hết bằng lời\n",
        "Nên đọng lại trong tôi những nghĩ suy.\n",
        "Cho tôi bài ca về người chiến sĩ nơi tuyến đầu.\n",
        "Nơi biên cường rừng sâu, anh âm thầm chịu đựng gió sương.\n",
        "Đã có những gian lao, đã có những nhọc nhằn\n",
        "Mang trong trái tim anh trọn niềm tin.\n",
        "Xin hát mãi về anh người chiến sĩ biên cương\n",
        "Xin hát mãi về anh người chiến sĩ biên cương\n",
        "Nghe lời bài hát Hát Về Anh\n",
        "Hát Về Anh '''\n",
        "\n",
        "predict_label(model, lyric)"
      ]
    },
    {
      "cell_type": "markdown",
      "metadata": {},
      "source": [
        "Bài hát Dây Đủng Đỉnh Buồn được phân loại Quê Hương trong dữ liệu.\n",
        "Đây cũng là một dự đoán chính xác."
      ]
    },
    {
      "cell_type": "code",
      "execution_count": 21,
      "metadata": {
        "id": "wZK4uXX-5z19"
      },
      "outputs": [
        {
          "data": {
            "text/plain": [
              "'que-huong'"
            ]
          },
          "execution_count": 21,
          "metadata": {},
          "output_type": "execute_result"
        }
      ],
      "source": [
        "lyric = '''Dây Đủng Đỉnh Buồn (Remix)\n",
        "Em đi theo chồng xa thôn làng cách biệt dòng sông.\n",
        "Em đi theo chồng anh nơi này mỏi mon` đợi trông\n",
        "Như dây đủng đỉnh nuôi trái tình bào tháng ngày qua.\n",
        "Tình đã trọng xanh rồi người nỡ đem đi hái cho đành.\n",
        "Ai xuôi chỉ mình ôm nỗi buồn cho người ta vui.\n",
        "Ai xuôi chỉ mình xây duyên tình giờ đây lẻ loi.\n",
        "Nhìn con nước chảy theo con thuyền lạc bến đời nhau.\n",
        "Lời ước hẹn xưa giờ thì cũng xa xa cuối chân trời.\n",
        "ĐK:\n",
        "Đau thương thui thủi đêm trương, gió lạnh từng đêm lẻ bóng đơn côi.\n",
        "Buồn miên man thầm trách cho đời lơ lửng chi rồi bỏ bạn mình ên.\n",
        "Yêu thương xin trả cho người nuốt lệ nhìn theo đám cưới người ta.\n",
        "Để bên đây đủng đỉnh u buồn, sao mang ân tình trao tặng người ta.\n",
        "Nghe lời bài hát Dây Đủng Đỉnh Buồn (Remix)\n",
        "\n",
        " \n",
        "Dây Đủng Đỉnh Buồn (Remix)'''\n",
        "\n",
        "predict_label(model, lyric)"
      ]
    },
    {
      "cell_type": "markdown",
      "metadata": {},
      "source": [
        "Bài hát thiếu nhi này cũng được phân loại đúng:"
      ]
    },
    {
      "cell_type": "code",
      "execution_count": 22,
      "metadata": {
        "id": "EHOwEdxc50Gq"
      },
      "outputs": [
        {
          "data": {
            "text/plain": [
              "'thieu-nhi'"
            ]
          },
          "execution_count": 22,
          "metadata": {},
          "output_type": "execute_result"
        }
      ],
      "source": [
        "lyric = '''Ai yêu bác Hồ Chí Minh hơn thiếu nhi Việt Nam\n",
        "Bác chúng em dáng cao cao, người thanh thanh\n",
        "Bác chúng em mắt như sao, râu hơi dài\n",
        "Bác chúng em nước da nâu vì sương gió\n",
        "Bác chúng em thề cương quyết trả thù nhà\n",
        "Hồ Chí Minh kính yêu, chúng em kính yêu Bác Hồ Chí Minh trọn một đời\n",
        "Hồ Chí Minh kính yêu Bác đã bao phen bôn ba nước ngoài vì giống nòi\n",
        "Bác nay tuy đã già rồi\n",
        "Già rồi nhưng vẫn vui tươi\n",
        "Ngày ngày chúng cháu ước mơ\n",
        "Mong sao Bác sống muôn đời để dẫn dắt nhi đồng thành người và kiến thiết nước nhà bằng Người\n",
        "Hồ Chí Minh kính yêu, chúng em kính yêu Bác Hồ Chí Minh trọn một đời\n",
        "Hồ Chí Minh kính yêu, chúng em ước sao Bác Hồ Chí Minh sống muôn đời\n",
        "Ai Yêu Bác Hồ Chí Minh Hơn Chúng Em Nhi Đồng'''\n",
        "\n",
        "predict_label(model, lyric)"
      ]
    },
    {
      "cell_type": "markdown",
      "metadata": {},
      "source": [
        "Bài hát \"Ánh nắng của anh\" được phân loại chính xác cho thể loại \"Trẻ\""
      ]
    },
    {
      "cell_type": "code",
      "execution_count": 23,
      "metadata": {
        "id": "XDgObfip6dqC"
      },
      "outputs": [
        {
          "data": {
            "text/plain": [
              "'tre'"
            ]
          },
          "execution_count": 23,
          "metadata": {},
          "output_type": "execute_result"
        }
      ],
      "source": [
        "lyric = '''Những phút giâу trôi qua tầm taу\n",
        "Ϲhờ một ai đó đến bên anh\n",
        "Lặng nghe những tâm tư nàу\n",
        "Là tia nắng ấm\n",
        "Là em đến bên anh cho vơi đi ưu phiền ngàу hôm qua\n",
        "Nhẹ nhàng xóa đi bao mâу đen vâу quanh cuộc đời nơi anh\n",
        "Phút giâу anh mong đến tình уêu ấу\n",
        "Giờ đâу là em, người anh mơ ước bao đêm\n",
        "Ѕẽ luôn thật gần bên em\n",
        "Ѕẽ luôn là vòng taу ấm êm\n",
        "Ѕẽ luôn là người уêu em\n",
        "Ϲùng em đi đến chân trời\n",
        "Lắng nghe từng nhịp tim anh\n",
        "Lắng nghe từng lời anh muốn nói\n",
        "Vì em luôn đẹp nhất khi em cười'''\n",
        "\n",
        "predict_label(model, lyric)"
      ]
    },
    {
      "cell_type": "markdown",
      "metadata": {},
      "source": [
        "Bây giờ mình sẽ lấy 2 bài hát không trong tập dữ liệu"
      ]
    },
    {
      "cell_type": "markdown",
      "metadata": {},
      "source": [
        "Bài thứ nhất là một bài nhạc trẻ mới nổi gần đây \"Anh Chưa Thương Em Đến Vậy Đâu\":"
      ]
    },
    {
      "cell_type": "code",
      "execution_count": 24,
      "metadata": {},
      "outputs": [
        {
          "data": {
            "text/plain": [
              "'tre'"
            ]
          },
          "execution_count": 24,
          "metadata": {},
          "output_type": "execute_result"
        }
      ],
      "source": [
        "lyric = '''Sao mình không gạt bỏ đi hết những lời nói ngoài kia\n",
        "Và sao mình không gạt bỏ đi hết những định kiến ngoài kia\n",
        "\n",
        "Giữa ngân hà em biết đâu là\n",
        "Biết đâu là thế gian này mà\n",
        "Mình bên nhau, được yêu nhau, được trao nhau, tình yêu sâu trái tim đậm sâu\n",
        "\n",
        "Giữa ngân hà em biết đâu là\n",
        "Biết đâu một sớm mai khi mà\n",
        "Cần bao lâu, chờ bao lâu, đợi bao lâu, tình trao nhau mãi thôi đậm sâu\n",
        "\n",
        "Giữa ngân hà, giữa ngân hà, giữa ngân hà\n",
        "Biết đâu là, biết đâu là, biết đâu là\n",
        "Hành tinh của hai chúng ta\n",
        "Một nơi của riêng chúng ta\n",
        "\n",
        "Giữa ngân hà, giữa ngân hà, giữa ngân hà\n",
        "Biết đâu là, biết đâu là, biết đâu là\n",
        "Hành tinh của hai chúng ta\n",
        "Ở 1 thế giới còn rất xa'''\n",
        "\n",
        "predict_label(model, lyric)"
      ]
    },
    {
      "cell_type": "markdown",
      "metadata": {},
      "source": [
        "Với bài hát \"Bước qua mùa cô đơn\":"
      ]
    },
    {
      "cell_type": "code",
      "execution_count": 25,
      "metadata": {},
      "outputs": [
        {
          "data": {
            "text/plain": [
              "'tre'"
            ]
          },
          "execution_count": 25,
          "metadata": {},
          "output_type": "execute_result"
        }
      ],
      "source": [
        "lyric = '''Mùa thu rơi vào em, vào trong giấc mơ hôm qua\n",
        "Mùa thu ôm mình em, chạy xa vòng tay vội vã\n",
        "Lời em nói ngày xưa đâu đây\n",
        "Vẫn âm thầm chìm vào trong mây\n",
        "Đến bao giờ, dặn lòng anh không mong nhớ\n",
        "Mùa thu rơi vào em, vào trong chiếc hôn ngây thơ\n",
        "Mùa thu không cần anh, vì em giờ đây còn mãi hững hờ\n",
        "Ngày mai kia nếu có phút giây vô tình thấy nhau sẽ nói câu gì...\n",
        "Hay ta chỉ nhìn\n",
        "Lặng lẽ\n",
        "Đi qua\n",
        "Chào cơn mưa\n",
        "Làm sao cứ kéo ta quay lại\n",
        "Những rung động con tim\n",
        "Lần đầu hai ta gặp gỡ'''\n",
        "\n",
        "predict_label(model, lyric)"
      ]
    },
    {
      "cell_type": "markdown",
      "metadata": {},
      "source": [
        "# Phương pháp 2: Naive Bayes"
      ]
    },
    {
      "cell_type": "markdown",
      "metadata": {},
      "source": [
        "Đây là phương pháp dựa vào xác suất thay vì đạo hàm như logistic regression.\n",
        "\n",
        "Đầu tiên, chúng ta sẽ tạo dựng corpus của lời bài hát và label (thể loại) của chúng:"
      ]
    },
    {
      "cell_type": "code",
      "execution_count": 26,
      "metadata": {},
      "outputs": [],
      "source": [
        "import glob\n",
        "from underthesea import word_tokenize\n",
        "# build freq dict with key pair as (word, label)\n",
        "corpus = []\n",
        "labels = []\n",
        "\n",
        "for label, genre in enumerate(genre_list):\n",
        "  lyric_folder = os.path.join(DATA_FOLDER, genre)\n",
        "  for filepath in glob.glob(f\"{lyric_folder}/*txt\"):\n",
        "    with open(filepath, 'r') as file:\n",
        "      lyric = preprocess_lyric(file.read())\n",
        "      corpus.append(lyric)\n",
        "      labels.append(label)\n",
        "\n",
        "# shuffle data\n",
        "import random\n",
        "bundle = list(zip(corpus, labels))\n",
        "random.shuffle(bundle)\n",
        "corpus, labels = zip(*bundle)\n",
        "corpus = list(corpus)\n",
        "labels = list(labels)"
      ]
    },
    {
      "cell_type": "markdown",
      "metadata": {},
      "source": [
        "Với corpus và labels đã tìm built ở trên, chúng ta tiến hành xây dựng dictionary freqs. Cái này giúp tính xác suất likelihood ở những bước sau:"
      ]
    },
    {
      "cell_type": "code",
      "execution_count": 27,
      "metadata": {},
      "outputs": [],
      "source": [
        "def build_freqs_dict(corpus, labels):\n",
        "  freqs = {}\n",
        "  for text, label in zip(corpus, labels):\n",
        "    for word in word_tokenize(preprocess_lyric(text)):\n",
        "      key_pair = (word, label)\n",
        "      if key_pair not in freqs:\n",
        "        freqs[key_pair] = 1\n",
        "      else:\n",
        "        freqs[key_pair] += 1\n",
        "  return freqs"
      ]
    },
    {
      "cell_type": "markdown",
      "metadata": {},
      "source": [
        "Tiếp tục, xây dựng hàm để tính likelihood cho từng từ, phân loại theo labels:"
      ]
    },
    {
      "cell_type": "code",
      "execution_count": 28,
      "metadata": {},
      "outputs": [],
      "source": [
        "def calc_likelihood(freqs, labels):\n",
        "  vocab = set([key_pair[0] for key_pair in freqs.keys()])\n",
        "  V = len(vocab)\n",
        "  Ns = {}\n",
        "  unique_labels = set(labels)\n",
        "  for label in unique_labels:\n",
        "    Ns[label] = len([key_pair for key_pair in freqs if key_pair[1]==label])\n",
        "  p_likelihood = {}\n",
        "  for word in vocab:\n",
        "    for label in unique_labels:\n",
        "      freq = freqs.get((word, label), 0)\n",
        "      N = Ns[label]\n",
        "      likelihood = (freq + 1) / (N + V)\n",
        "      if word not in p_likelihood: \n",
        "        p_likelihood[word] = {label: likelihood}\n",
        "      else:\n",
        "        p_likelihood[word][label] = likelihood\n",
        "  return p_likelihood"
      ]
    },
    {
      "cell_type": "markdown",
      "metadata": {},
      "source": [
        "Tính xác suất Prior cho từng label:"
      ]
    },
    {
      "cell_type": "code",
      "execution_count": 29,
      "metadata": {},
      "outputs": [],
      "source": [
        "def calc_prior_prop(y):\n",
        "  priors = {}\n",
        "  labels, counts = np.unique(y, return_counts=True)\n",
        "  total = sum(counts)\n",
        "  for label, count in zip(labels, counts):\n",
        "    priors[label] = count / total\n",
        "  return priors"
      ]
    },
    {
      "cell_type": "markdown",
      "metadata": {},
      "source": [
        "Và mô hình được \"train\" với hàm sau:"
      ]
    },
    {
      "cell_type": "code",
      "execution_count": 30,
      "metadata": {},
      "outputs": [],
      "source": [
        "def train_naive_bayes(X_train, y_train):\n",
        "  freqs = build_freqs_dict(corpus=X_train, labels=y_train)\n",
        "  priors = calc_prior_prop(y_train)\n",
        "  likelihood = calc_likelihood(freqs, y_train)\n",
        "\n",
        "  return priors, likelihood"
      ]
    },
    {
      "cell_type": "markdown",
      "metadata": {},
      "source": [
        "Sau khi có đủ  các hàm cần thiết, chúng ta bắt đầu split dữ liệu và train:"
      ]
    },
    {
      "cell_type": "code",
      "execution_count": 31,
      "metadata": {},
      "outputs": [],
      "source": [
        "train_size = int(len(labels) * 0.8)\n",
        "X_train = corpus[:train_size]\n",
        "y_train = labels[:train_size]\n",
        "\n",
        "X_test = corpus[train_size:]\n",
        "y_test = labels[train_size:]\n",
        "\n",
        "p_priors, p_likelihood = train_naive_bayes(X_train, y_train)"
      ]
    },
    {
      "cell_type": "markdown",
      "metadata": {},
      "source": [
        "Tiếp tục, chúng ta viết hàm để phân loại cho một lyric cho trước.\n",
        "Lần đầu khi mình viết hàm này thì mình không dùng log, và kết quả là hàm lúc nào cũng trả về xác suất bằng 0. Sau một hồi debug thì mình phát hiện ra do likelihood của mỗi từ đều gần bằng 0, nên nếu nhân chúng lại với số lượng lớn thì kết quả lúc nào cũng bằng 0.\n",
        "\n",
        "Thế nên, mình sử dụng hàm log để tránh tình trạng này:"
      ]
    },
    {
      "cell_type": "code",
      "execution_count": 32,
      "metadata": {},
      "outputs": [],
      "source": [
        "from numpy import log\n",
        "\n",
        "def predict_naive_bayes(lyric, p_priors, p_likelihood):\n",
        "  preds = {}\n",
        "  words = word_tokenize(preprocess_lyric(lyric))\n",
        "  # print(words)\n",
        "  for label, prior in p_priors.items():\n",
        "    p = log(prior)\n",
        "    for word in words:\n",
        "      if word in p_likelihood:\n",
        "        p += log(p_likelihood[word][label])\n",
        "    preds[label] = p\n",
        "  predicted_label = -1\n",
        "  predicted_logprob = min(preds.values())\n",
        "  for label, prop in preds.items():\n",
        "    if prop > predicted_logprob:\n",
        "      predicted_label = label\n",
        "      predicted_logprob = prop\n",
        "  \n",
        "  return predicted_label"
      ]
    },
    {
      "cell_type": "markdown",
      "metadata": {},
      "source": [
        "Chúng ta thử tính xem mô hình có độ chính xác là bao nhiêu nhé:"
      ]
    },
    {
      "cell_type": "code",
      "execution_count": 33,
      "metadata": {},
      "outputs": [
        {
          "name": "stdout",
          "output_type": "stream",
          "text": [
            "Accuracy: 16 / 30 = 53.33%\n"
          ]
        }
      ],
      "source": [
        "# test accuracy\n",
        "correct = 0\n",
        "total = len(y_test)\n",
        "\n",
        "for text, label in zip(X_test, y_test):\n",
        "  pred = predict_naive_bayes(text, p_priors, p_likelihood)\n",
        "  correct += (pred == label)\n",
        "\n",
        "print(f\"Accuracy: {correct} / {total} = {correct/total:.2%}\")"
      ]
    },
    {
      "cell_type": "markdown",
      "metadata": {},
      "source": [
        "Sau vài lần chạy thì mô hình đạt độ chính xác 30 ~ 53.33%."
      ]
    },
    {
      "cell_type": "markdown",
      "metadata": {},
      "source": [
        "### Một số ví dụ"
      ]
    },
    {
      "cell_type": "code",
      "execution_count": 34,
      "metadata": {
        "id": "pKO-awBT4iOb"
      },
      "outputs": [
        {
          "data": {
            "text/plain": [
              "'cach-mang'"
            ]
          },
          "execution_count": 34,
          "metadata": {},
          "output_type": "execute_result"
        }
      ],
      "source": [
        "lyric = '''Hát Về Anh\n",
        "Một ba lô, cây súng trên vai,\n",
        "Người chiến sĩ quen với gian lao,\n",
        "Ngày dài đêm thâu vẫn có những người lính trẻ,\n",
        "Nặng tình quê hương canh giữ trên miền đất mẹ.\n",
        "Rừng âm u, mây núi mênh mông\n",
        "Ngày nắng cháy, đêm giá lạnh đầy.\n",
        "Rừng mờ sương khuya bóng tối quân thù trước mặt,\n",
        "Nặng tình non sông anh dâng trọn tuổi đời thanh xuân.\n",
        "Cho em thơ ngủ ngon và vui bước sớm hôm đến trường\n",
        "Cho yên vui mùa xuân đôi lứa còn hẹn hò ước mơ\n",
        "Ðã có những hy sinh khó nói hết bằng lời\n",
        "Nên đọng lại trong tôi những nghĩ suy.\n",
        "Cho tôi bài ca về người chiến sĩ nơi tuyến đầu.\n",
        "Nơi biên cường rừng sâu, anh âm thầm chịu đựng gió sương.\n",
        "Đã có những gian lao, đã có những nhọc nhằn\n",
        "Mang trong trái tim anh trọn niềm tin.\n",
        "Xin hát mãi về anh người chiến sĩ biên cương\n",
        "Xin hát mãi về anh người chiến sĩ biên cương\n",
        "Nghe lời bài hát Hát Về Anh\n",
        "Hát Về Anh '''\n",
        "\n",
        "genre_list[predict_naive_bayes(lyric, p_priors, p_likelihood)]"
      ]
    },
    {
      "cell_type": "markdown",
      "metadata": {},
      "source": [
        "Bài hát Dây Đủng Đỉnh Buồn được phân loại Quê Hương trong dữ liệu.\n",
        "Đây cũng là một dự đoán chính xác."
      ]
    },
    {
      "cell_type": "code",
      "execution_count": 35,
      "metadata": {
        "id": "wZK4uXX-5z19"
      },
      "outputs": [
        {
          "data": {
            "text/plain": [
              "'que-huong'"
            ]
          },
          "execution_count": 35,
          "metadata": {},
          "output_type": "execute_result"
        }
      ],
      "source": [
        "lyric = '''Dây Đủng Đỉnh Buồn (Remix)\n",
        "Em đi theo chồng xa thôn làng cách biệt dòng sông.\n",
        "Em đi theo chồng anh nơi này mỏi mon` đợi trông\n",
        "Như dây đủng đỉnh nuôi trái tình bào tháng ngày qua.\n",
        "Tình đã trọng xanh rồi người nỡ đem đi hái cho đành.\n",
        "Ai xuôi chỉ mình ôm nỗi buồn cho người ta vui.\n",
        "Ai xuôi chỉ mình xây duyên tình giờ đây lẻ loi.\n",
        "Nhìn con nước chảy theo con thuyền lạc bến đời nhau.\n",
        "Lời ước hẹn xưa giờ thì cũng xa xa cuối chân trời.\n",
        "ĐK:\n",
        "Đau thương thui thủi đêm trương, gió lạnh từng đêm lẻ bóng đơn côi.\n",
        "Buồn miên man thầm trách cho đời lơ lửng chi rồi bỏ bạn mình ên.\n",
        "Yêu thương xin trả cho người nuốt lệ nhìn theo đám cưới người ta.\n",
        "Để bên đây đủng đỉnh u buồn, sao mang ân tình trao tặng người ta.\n",
        "Nghe lời bài hát Dây Đủng Đỉnh Buồn (Remix)\n",
        "\n",
        " \n",
        "Dây Đủng Đỉnh Buồn (Remix)'''\n",
        "\n",
        "genre_list[predict_naive_bayes(lyric, p_priors, p_likelihood)]"
      ]
    },
    {
      "cell_type": "markdown",
      "metadata": {},
      "source": [
        "Tuy nhiên, thì bài hát thiếu nhi này lại bị phân loại sai:"
      ]
    },
    {
      "cell_type": "code",
      "execution_count": 36,
      "metadata": {
        "id": "EHOwEdxc50Gq"
      },
      "outputs": [
        {
          "data": {
            "text/plain": [
              "'cach-mang'"
            ]
          },
          "execution_count": 36,
          "metadata": {},
          "output_type": "execute_result"
        }
      ],
      "source": [
        "lyric = '''Ai yêu bác Hồ Chí Minh hơn thiếu nhi Việt Nam\n",
        "Bác chúng em dáng cao cao, người thanh thanh\n",
        "Bác chúng em mắt như sao, râu hơi dài\n",
        "Bác chúng em nước da nâu vì sương gió\n",
        "Bác chúng em thề cương quyết trả thù nhà\n",
        "Hồ Chí Minh kính yêu, chúng em kính yêu Bác Hồ Chí Minh trọn một đời\n",
        "Hồ Chí Minh kính yêu Bác đã bao phen bôn ba nước ngoài vì giống nòi\n",
        "Bác nay tuy đã già rồi\n",
        "Già rồi nhưng vẫn vui tươi\n",
        "Ngày ngày chúng cháu ước mơ\n",
        "Mong sao Bác sống muôn đời để dẫn dắt nhi đồng thành người và kiến thiết nước nhà bằng Người\n",
        "Hồ Chí Minh kính yêu, chúng em kính yêu Bác Hồ Chí Minh trọn một đời\n",
        "Hồ Chí Minh kính yêu, chúng em ước sao Bác Hồ Chí Minh sống muôn đời\n",
        "Ai Yêu Bác Hồ Chí Minh Hơn Chúng Em Nhi Đồng'''\n",
        "\n",
        "genre_list[predict_naive_bayes(lyric, p_priors, p_likelihood)]"
      ]
    },
    {
      "cell_type": "markdown",
      "metadata": {},
      "source": [
        "Bài hát \"Ánh nắng của anh\" được phân loại chính xác cho thể loại \"Trẻ\""
      ]
    },
    {
      "cell_type": "code",
      "execution_count": 37,
      "metadata": {
        "id": "XDgObfip6dqC"
      },
      "outputs": [
        {
          "data": {
            "text/plain": [
              "'tre'"
            ]
          },
          "execution_count": 37,
          "metadata": {},
          "output_type": "execute_result"
        }
      ],
      "source": [
        "lyric = '''Những phút giâу trôi qua tầm taу\n",
        "Ϲhờ một ai đó đến bên anh\n",
        "Lặng nghe những tâm tư nàу\n",
        "Là tia nắng ấm\n",
        "Là em đến bên anh cho vơi đi ưu phiền ngàу hôm qua\n",
        "Nhẹ nhàng xóa đi bao mâу đen vâу quanh cuộc đời nơi anh\n",
        "Phút giâу anh mong đến tình уêu ấу\n",
        "Giờ đâу là em, người anh mơ ước bao đêm\n",
        "Ѕẽ luôn thật gần bên em\n",
        "Ѕẽ luôn là vòng taу ấm êm\n",
        "Ѕẽ luôn là người уêu em\n",
        "Ϲùng em đi đến chân trời\n",
        "Lắng nghe từng nhịp tim anh\n",
        "Lắng nghe từng lời anh muốn nói\n",
        "Vì em luôn đẹp nhất khi em cười'''\n",
        "\n",
        "genre_list[predict_naive_bayes(lyric, p_priors, p_likelihood)]"
      ]
    },
    {
      "cell_type": "markdown",
      "metadata": {},
      "source": [
        "Bây giờ mình sẽ lấy 2 bài hát không trong tập dữ liệu"
      ]
    },
    {
      "cell_type": "markdown",
      "metadata": {},
      "source": [
        "Bài thứ nhất là một bài nhạc trẻ mới nổi gần đây \"Anh Chưa Thương Em Đến Vậy Đâu\":"
      ]
    },
    {
      "cell_type": "code",
      "execution_count": 38,
      "metadata": {},
      "outputs": [
        {
          "data": {
            "text/plain": [
              "'tre'"
            ]
          },
          "execution_count": 38,
          "metadata": {},
          "output_type": "execute_result"
        }
      ],
      "source": [
        "lyric = '''Sao mình không gạt bỏ đi hết những lời nói ngoài kia\n",
        "Và sao mình không gạt bỏ đi hết những định kiến ngoài kia\n",
        "\n",
        "Giữa ngân hà em biết đâu là\n",
        "Biết đâu là thế gian này mà\n",
        "Mình bên nhau, được yêu nhau, được trao nhau, tình yêu sâu trái tim đậm sâu\n",
        "\n",
        "Giữa ngân hà em biết đâu là\n",
        "Biết đâu một sớm mai khi mà\n",
        "Cần bao lâu, chờ bao lâu, đợi bao lâu, tình trao nhau mãi thôi đậm sâu\n",
        "\n",
        "Giữa ngân hà, giữa ngân hà, giữa ngân hà\n",
        "Biết đâu là, biết đâu là, biết đâu là\n",
        "Hành tinh của hai chúng ta\n",
        "Một nơi của riêng chúng ta\n",
        "\n",
        "Giữa ngân hà, giữa ngân hà, giữa ngân hà\n",
        "Biết đâu là, biết đâu là, biết đâu là\n",
        "Hành tinh của hai chúng ta\n",
        "Ở 1 thế giới còn rất xa'''\n",
        "\n",
        "genre_list[predict_naive_bayes(lyric, p_priors, p_likelihood)]"
      ]
    },
    {
      "cell_type": "markdown",
      "metadata": {},
      "source": [
        "Với bài hát \"Bước qua mùa cô đơn\":"
      ]
    },
    {
      "cell_type": "code",
      "execution_count": 39,
      "metadata": {},
      "outputs": [
        {
          "data": {
            "text/plain": [
              "'tre'"
            ]
          },
          "execution_count": 39,
          "metadata": {},
          "output_type": "execute_result"
        }
      ],
      "source": [
        "lyric = '''Mùa thu rơi vào em, vào trong giấc mơ hôm qua\n",
        "Mùa thu ôm mình em, chạy xa vòng tay vội vã\n",
        "Lời em nói ngày xưa đâu đây\n",
        "Vẫn âm thầm chìm vào trong mây\n",
        "Đến bao giờ, dặn lòng anh không mong nhớ\n",
        "Mùa thu rơi vào em, vào trong chiếc hôn ngây thơ\n",
        "Mùa thu không cần anh, vì em giờ đây còn mãi hững hờ\n",
        "Ngày mai kia nếu có phút giây vô tình thấy nhau sẽ nói câu gì...\n",
        "Hay ta chỉ nhìn\n",
        "Lặng lẽ\n",
        "Đi qua\n",
        "Chào cơn mưa\n",
        "Làm sao cứ kéo ta quay lại\n",
        "Những rung động con tim\n",
        "Lần đầu hai ta gặp gỡ'''\n",
        "\n",
        "genre_list[predict_naive_bayes(lyric, p_priors, p_likelihood)]"
      ]
    },
    {
      "cell_type": "markdown",
      "metadata": {},
      "source": [
        "Khá thú vị rằng, mô hình Naive Bayes dù đạt độ chính xác thấp hơn Logistic Regression, nhưng khi test thủ công lại cho kết quả tương tự."
      ]
    },
    {
      "cell_type": "markdown",
      "metadata": {},
      "source": [
        "# [Update] Phương pháp 3: Genetic Algorithm - Giải thuật di truyền"
      ]
    },
    {
      "cell_type": "markdown",
      "metadata": {},
      "source": [
        "Đây cũng là một giải thuật thú vị cho bài toán phân loại. Ở đây mình xài thư viện pygad để tập trung vào việc chọn tham số thay vì code tay lại mô hình."
      ]
    },
    {
      "cell_type": "code",
      "execution_count": 13,
      "metadata": {},
      "outputs": [],
      "source": [
        "!pip install -q pygad"
      ]
    },
    {
      "cell_type": "markdown",
      "metadata": {},
      "source": [
        "Viết hàm softmax dùng cho bài toán phân loại đa lớp:"
      ]
    },
    {
      "cell_type": "code",
      "execution_count": 16,
      "metadata": {},
      "outputs": [],
      "source": [
        "def softmax(vec):\n",
        "    epsilon=1e-7\n",
        "    e_vec = np.exp(np.clip(vec, a_min=1e-7, a_max=300))\n",
        "    return e_vec / (np.sum(e_vec) + epsilon)"
      ]
    },
    {
      "cell_type": "markdown",
      "metadata": {},
      "source": [
        "Mình chưa tìm ra cách để pygad hỗ trợ matrix, nên dùng giải pháp truyền vào 1 vector, rồi sau đó khi tính predict thì sẽ reshape lại thành ma trận:"
      ]
    },
    {
      "cell_type": "code",
      "execution_count": 34,
      "metadata": {},
      "outputs": [],
      "source": [
        "solution_shape=(n_features, n_labels)\n",
        "\n",
        "def predict(theta, X):\n",
        "  theta_reshaped = np.reshape(theta, newshape=solution_shape)\n",
        "  y_hat = softmax(X @ theta_reshaped).argmax(axis=1)\n",
        "  return y_hat"
      ]
    },
    {
      "cell_type": "markdown",
      "metadata": {},
      "source": [
        "Hàm fitness này chủ yếu là tính độ chính xác (accuracy):"
      ]
    },
    {
      "cell_type": "code",
      "execution_count": 18,
      "metadata": {},
      "outputs": [],
      "source": [
        "def compute_fitness(theta, theta_idx):\n",
        "  predictions = predict(theta, X_train)\n",
        "  corrects = np.sum(np.equal(predictions, y_train))\n",
        "  return corrects / len(predictions)"
      ]
    },
    {
      "cell_type": "markdown",
      "metadata": {},
      "source": [
        "Đây là tham số sẽ dùng để train. Mình phát hiện rằng sử dụng nhiều cá thể hơn và mating nhiều hơn thì mô hình sẽ hội tụ nhanh hơn:"
      ]
    },
    {
      "cell_type": "code",
      "execution_count": 19,
      "metadata": {},
      "outputs": [],
      "source": [
        "fitness_function = compute_fitness\n",
        "\n",
        "num_generations = 100\n",
        "\n",
        "sol_per_pop = 1500\n",
        "num_parents_mating = int(.8 * sol_per_pop)\n",
        "\n",
        "num_genes = n_features * n_labels\n",
        "\n",
        "init_range_low = -100\n",
        "init_range_high = 100\n",
        "\n",
        "\n",
        "# parent_selection_type = \"sss\"\n",
        "parent_selection_type = \"rank\"\n",
        "\n",
        "keep_parents = int(.05 * sol_per_pop)\n",
        "keep_elitism = int(.3 * sol_per_pop)\n",
        "\n",
        "crossover_type = \"single_point\"\n",
        "\n",
        "\n",
        "mutation_type = \"random\"\n",
        "mutation_percent_genes = 80"
      ]
    },
    {
      "cell_type": "markdown",
      "metadata": {},
      "source": [
        "Với pygad thì việc train rất đơn giản, chỉ là khởi tạo với tham số như trên rồi gọi hàm run():"
      ]
    },
    {
      "cell_type": "code",
      "execution_count": 20,
      "metadata": {},
      "outputs": [],
      "source": [
        "import pygad\n",
        "\n",
        "ga_instance = pygad.GA(num_generations=num_generations,\n",
        "                       save_best_solutions=True,\n",
        "                       allow_duplicate_genes=False,\n",
        "                       num_parents_mating=num_parents_mating,\n",
        "                       fitness_func=fitness_function,\n",
        "                       sol_per_pop=sol_per_pop,\n",
        "                       num_genes=num_genes,\n",
        "                       init_range_low=init_range_low,\n",
        "                       init_range_high=init_range_high,\n",
        "                       parent_selection_type=parent_selection_type,\n",
        "                       keep_parents=keep_parents,\n",
        "                       keep_elitism=keep_elitism,\n",
        "                       crossover_type=crossover_type,\n",
        "                       mutation_type=mutation_type,\n",
        "                       mutation_percent_genes=mutation_percent_genes)\n",
        "\n",
        "ga_instance.run()"
      ]
    },
    {
      "cell_type": "markdown",
      "metadata": {},
      "source": [
        "Hàm sau để tính accuracy trên tập test. Hàm fitness ở trên là ở tập train"
      ]
    },
    {
      "cell_type": "code",
      "execution_count": 21,
      "metadata": {},
      "outputs": [],
      "source": [
        "def compute_accuracy(theta):\n",
        "  predictions = predict(theta, X_test)\n",
        "  corrects = np.sum(np.equal(predictions, y_test))\n",
        "  return corrects / len(predictions)"
      ]
    },
    {
      "cell_type": "markdown",
      "metadata": {},
      "source": [
        "Mô hình hội tụ chỉ với hoảng 40 thế hệ:"
      ]
    },
    {
      "cell_type": "code",
      "execution_count": 23,
      "metadata": {},
      "outputs": [
        {
          "data": {
            "image/png": "[encoded data removed]",
            "text/plain": [
              "<Figure size 640x480 with 1 Axes>"
            ]
          },
          "metadata": {},
          "output_type": "display_data"
        }
      ],
      "source": [
        "fig = ga_instance.plot_fitness()"
      ]
    },
    {
      "cell_type": "markdown",
      "metadata": {},
      "source": [
        "Vì accuracy trên tập train sẽ khác với tập test. Nên, chúng ta sẽ loop qua các nghiệm best rồi chọn ra cái có accuracy trên test cao nhất:"
      ]
    },
    {
      "cell_type": "code",
      "execution_count": 29,
      "metadata": {},
      "outputs": [],
      "source": [
        "best_solutions = ga_instance.best_solutions\n",
        "accs = []\n",
        "for sol in best_solutions:\n",
        "  acc = compute_accuracy(sol)\n",
        "  accs.append(acc)\n",
        "\n",
        "best_sol_idx = np.argmax(accs)\n",
        "best_sol = best_solutions[best_sol_idx]"
      ]
    },
    {
      "cell_type": "markdown",
      "metadata": {},
      "source": [
        "Đây là accuracy của các best solutions:"
      ]
    },
    {
      "cell_type": "code",
      "execution_count": 32,
      "metadata": {},
      "outputs": [
        {
          "data": {
            "image/png": "[encoded data removed]",
            "text/plain": [
              "<Figure size 640x480 with 1 Axes>"
            ]
          },
          "metadata": {},
          "output_type": "display_data"
        }
      ],
      "source": [
        "import matplotlib.pyplot as plt\n",
        "plt.plot(accs)\n",
        "plt.show()"
      ]
    },
    {
      "cell_type": "markdown",
      "metadata": {},
      "source": [
        "Có thể thấy rằng sau gen thứ 40 thì acc nhảy qua lại giữa 0.7 và 0.725"
      ]
    },
    {
      "cell_type": "markdown",
      "metadata": {},
      "source": [
        "Tiếp theo, hãy xem nghiệm best nhất có độ chính xác như thế nào nhé."
      ]
    },
    {
      "cell_type": "code",
      "execution_count": 40,
      "metadata": {},
      "outputs": [
        {
          "name": "stdout",
          "output_type": "stream",
          "text": [
            "Accuracy of the best solution: 73.33%\n",
            "Best solution:\n",
            " [[ 45.0618 -71.966    6.4488 -33.7314]\n",
            " [ 43.0644  61.1347  18.9067 -91.6843]\n",
            " [-27.579    3.3492 -98.9866  73.9414]\n",
            " [-24.5389  29.5234 -65.0851 -15.6497]\n",
            " [ -4.3924 -23.3623 -70.5927  31.2352]]\n"
          ]
        }
      ],
      "source": [
        "best_sol_acc = compute_accuracy(best_sol)\n",
        "print(f\"Accuracy of the best solution: {best_sol_acc:.2%}\")\n",
        "print(f\"Best solution:\\n\", best_sol.reshape(solution_shape).round(4))"
      ]
    },
    {
      "cell_type": "markdown",
      "metadata": {},
      "source": [
        "# [Update] Phương pháp 4: Decision Tree"
      ]
    },
    {
      "cell_type": "markdown",
      "metadata": {},
      "source": [
        "Với SciKit-Learn thì việc train Decision Tree vô cùng đơn giản.\n",
        "Đầu tiên ta sẽ import mô hình và metrics"
      ]
    },
    {
      "cell_type": "code",
      "execution_count": 69,
      "metadata": {},
      "outputs": [],
      "source": [
        "from sklearn.tree import DecisionTreeClassifier\n",
        "from sklearn import metrics"
      ]
    },
    {
      "cell_type": "markdown",
      "metadata": {},
      "source": [
        "Sau đó chỉ cần gọi hàm fit để train. Dùng predict để tính predictions trên tập test:"
      ]
    },
    {
      "cell_type": "code",
      "execution_count": 70,
      "metadata": {},
      "outputs": [],
      "source": [
        "# Create Decision Tree classifer object\n",
        "clf = DecisionTreeClassifier()\n",
        "\n",
        "# Train Decision Tree Classifer\n",
        "clf = clf.fit(X_train,y_train)\n",
        "\n",
        "#Predict the response for test dataset\n",
        "y_pred = clf.predict(X_test)"
      ]
    },
    {
      "cell_type": "markdown",
      "metadata": {},
      "source": [
        "Chỉ với vài dòng code như vậy là bạn đã có một mô hình chính xác khá cao."
      ]
    },
    {
      "cell_type": "code",
      "execution_count": 76,
      "metadata": {},
      "outputs": [
        {
          "name": "stdout",
          "output_type": "stream",
          "text": [
            "Decision Tree Accuracy: 70.00%\n"
          ]
        }
      ],
      "source": [
        "print(f\"Decision Tree Accuracy: {metrics.accuracy_score(y_test, y_pred):.2%}\")"
      ]
    },
    {
      "cell_type": "markdown",
      "metadata": {},
      "source": [
        "# Kết luận"
      ]
    },
    {
      "cell_type": "markdown",
      "metadata": {},
      "source": [
        "Trong project này, chúng ta đã cùng:\n",
        "1. Trích xuất và xử lý dữ liệu lời bài hát\n",
        "2. Xây dựng mô hình để phân loại bài hát dựa trên phần lời (lyrics) với hai mô hình phổ biến là Naive Bayes và Logistic Regression\n",
        "3. So sánh độ chính xác của mô hình dựa trên tập test và cả test thủ công\n"
      ]
    },
    {
      "cell_type": "markdown",
      "metadata": {},
      "source": [
        "Nếu bạn có hứng thú, hãy xem app demo ở đây nhé: [lukang-vnsongclassifier.streamlitapp.com](https://lukang-vnsongclassifier.streamlitapp.com/)\n",
        "\n",
        "![demo vietnamese song classifier](https://i.imgur.com/E8QLEWi.png)"
      ]
    },
    {
      "cell_type": "markdown",
      "metadata": {},
      "source": []
    }
  ],
  "metadata": {
    "accelerator": "GPU",
    "colab": {
      "collapsed_sections": [
        "M18gAHfTxwtE",
        "oS6HFwuHgGpP",
        "yBziT3fxiK_D"
      ],
      "private_outputs": true,
      "provenance": []
    },
    "kernelspec": {
      "display_name": "Python 3.9.13 ('base')",
      "language": "python",
      "name": "python3"
    },
    "language_info": {
      "codemirror_mode": {
        "name": "ipython",
        "version": 3
      },
      "file_extension": ".py",
      "mimetype": "text/x-python",
      "name": "python",
      "nbconvert_exporter": "python",
      "pygments_lexer": "ipython3",
      "version": "3.9.12 (main, Apr  5 2022, 06:56:58) \n[GCC 7.5.0]"
    },
    "vscode": {
      "interpreter": {
        "hash": "4b4b224c1711f6f147485a4b80db987660f8f63e2221043c3b4065836c3bf5b5"
      }
    }
  },
  "nbformat": 4,
  "nbformat_minor": 0
}
