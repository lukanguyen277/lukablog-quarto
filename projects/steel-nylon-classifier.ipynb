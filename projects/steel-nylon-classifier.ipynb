{
 "cells": [
  {
   "cell_type": "raw",
   "metadata": {},
   "source": [
    "---\n",
    "title: \"Simple MLP model for Guitar Steel vs Nylon strings classification\"\n",
    "author: \"Luka Nguyen\"\n",
    "date: \"2022-11-26\"\n",
    "categories: [code,classification,mlp,cnn,audio,processing,signal,fft]\n",
    "image: \"steel-nylon-classifier.png\"\n",
    "---"
   ]
  },
  {
   "attachments": {},
   "cell_type": "markdown",
   "metadata": {},
   "source": [
    "# Brief Introduction\n",
    "> Can a 2-hidden-layer MLP do a good job classifying musical instrument sounds? Let's find out!"
   ]
  },
  {
   "cell_type": "markdown",
   "metadata": {},
   "source": [
    "# Introduction"
   ]
  },
  {
   "cell_type": "markdown",
   "metadata": {},
   "source": [
    "For beginner guitar players, it's sometimes difficult to tell apart the sound of steel strings vs nylon strings on the guitar.\n",
    "In this article, I'll walk you through some easy steps to build a Machine Learning model to classify the two aforemtioned types of sound.\n",
    "\n",
    "You can try a live DEMO via:\n",
    "\n",
    "https://nqhoang2077-steel-nylon-streamlitapp-streamlit-app-8sd4cc.streamlit.app/"
   ]
  },
  {
   "cell_type": "markdown",
   "metadata": {
    "id": "-zhRrrgeJ6Bv",
    "jp-MarkdownHeadingCollapsed": true,
    "tags": []
   },
   "source": [
    "# Import libraries & Setup constants"
   ]
  },
  {
   "cell_type": "markdown",
   "metadata": {},
   "source": [
    "The first step is to install all required libraries. Even though torchaudio could handle audio, they lack support for some media formats. That's why we need two additional sound libraries, namely libosa and soundfile.\n",
    "Our main data source is YouTube, and pytube allows easy and fast audio extraction from the social media platform."
   ]
  },
  {
   "cell_type": "code",
   "execution_count": 2,
   "metadata": {
    "colab": {
     "base_uri": "https://localhost:8080/"
    },
    "id": "vNf1fy2ay9cx",
    "outputId": "b096a0cd-2331-4342-8e7d-a6c6818dfe2e"
   },
   "outputs": [
    {
     "name": "stdout",
     "output_type": "stream",
     "text": [
      "\u001b[K     |████████████████████████████████| 56 kB 3.6 MB/s  eta 0:00:01\n",
      "\u001b[?25h"
     ]
    }
   ],
   "source": [
    "!pip install torchaudio librosa soundfile pytube torchsummary matplotlib pandas"
   ]
  },
  {
   "cell_type": "code",
   "execution_count": null,
   "metadata": {},
   "outputs": [],
   "source": [
    "!conda install libsoundfile"
   ]
  },
  {
   "cell_type": "code",
   "execution_count": 1,
   "metadata": {
    "id": "oAmiwkYoyvmy"
   },
   "outputs": [],
   "source": [
    "import torch\n",
    "import torchaudio\n",
    "import librosa\n",
    "import pandas as pd\n",
    "import matplotlib.pyplot as plt\n",
    "import numpy as np\n",
    "import soundfile as sf\n",
    "import threading\n",
    "from glob import glob\n",
    "import os\n"
   ]
  },
  {
   "cell_type": "markdown",
   "metadata": {},
   "source": [
    "Use Google Drive if you need to store your data there."
   ]
  },
  {
   "cell_type": "code",
   "execution_count": 4,
   "metadata": {
    "colab": {
     "base_uri": "https://localhost:8080/"
    },
    "id": "Ueg3Dq7NzJfj",
    "outputId": "eb2041bd-bb37-4f98-cb77-b2da00bb6aab"
   },
   "outputs": [
    {
     "name": "stdout",
     "output_type": "stream",
     "text": [
      "Mounted at /content/drive\n"
     ]
    }
   ],
   "source": [
    "# from google.colab import drive\n",
    "# drive.mount('/content/drive')"
   ]
  },
  {
   "cell_type": "markdown",
   "metadata": {},
   "source": [
    "For simplicity, I will use 8000 Hz as the default sampling rate. This helps training faster on modest hardware.\n",
    "Also, I'd like to segment each YouTube audio clip into chunks of 5-second clip for training. This help us enrich our dataset and simplify our network architecture."
   ]
  },
  {
   "cell_type": "code",
   "execution_count": 32,
   "metadata": {
    "colab": {
     "base_uri": "https://localhost:8080/"
    },
    "id": "sqDJ6q_v0BON",
    "outputId": "0a4ea54e-422c-4a8d-c0eb-2bc001b2ef47"
   },
   "outputs": [
    {
     "data": {
      "text/plain": [
       "<torch._C.Generator at 0x7faa2c165c90>"
      ]
     },
     "execution_count": 32,
     "metadata": {},
     "output_type": "execute_result"
    }
   ],
   "source": [
    "TARGET_SR = 8_000\n",
    "CLASSES = [\"nylon\", \"steel\"]\n",
    "SEGMENT_DURATION = 5 # seconds\n",
    "RANDOM_SEED = 42\n",
    "TRAIN_SIZE = .95\n",
    "\n",
    "torch.random.manual_seed(RANDOM_SEED)"
   ]
  },
  {
   "cell_type": "markdown",
   "metadata": {},
   "source": [
    "Then, we will create some folders to store our sound files."
   ]
  },
  {
   "cell_type": "code",
   "execution_count": 3,
   "metadata": {
    "id": "wQVBuoxRzxVU"
   },
   "outputs": [],
   "source": [
    "ROOT_DIR = \"./\"\n",
    "DATA_DIR = f\"{ROOT_DIR}data/\" # Google Drive & Colab\n",
    "\n",
    "for subfolder in [\"raw\", \"segments\"]:\n",
    "  for cls in CLASSES:\n",
    "    new_dir = f\"{DATA_DIR}{subfolder}/{cls}\"\n",
    "    if not os.path.exists(new_dir):\n",
    "      os.makedirs(new_dir)\n",
    "\n",
    "SEGMENT_DIR = f\"{DATA_DIR}segments/\"\n",
    "RAW_CLIP_PATH = f\"{DATA_DIR}raw/\""
   ]
  },
  {
   "cell_type": "markdown",
   "metadata": {},
   "source": [
    "This function helps get the best device possible for training."
   ]
  },
  {
   "cell_type": "code",
   "execution_count": 4,
   "metadata": {
    "colab": {
     "base_uri": "https://localhost:8080/"
    },
    "id": "brlQEv95Mwse",
    "outputId": "ffa29220-a97d-4a1b-f686-c14ae6f9398d"
   },
   "outputs": [
    {
     "name": "stdout",
     "output_type": "stream",
     "text": [
      "Using device cuda\n"
     ]
    }
   ],
   "source": [
    "def get_best_torch_device():\n",
    "  if torch.cuda.is_available():\n",
    "      device = \"cuda\"\n",
    "  else:\n",
    "      device = \"cpu\"\n",
    "  print(f\"Using device {device}\")\n",
    "  return device\n",
    "\n",
    "device = get_best_torch_device()"
   ]
  },
  {
   "cell_type": "markdown",
   "metadata": {
    "id": "3t3TmoObyvm0",
    "jp-MarkdownHeadingCollapsed": true,
    "tags": []
   },
   "source": [
    "# Collect Data"
   ]
  },
  {
   "cell_type": "markdown",
   "metadata": {
    "id": "8u55lSucyvm1"
   },
   "source": [
    "## Download audio from YouTube\n"
   ]
  },
  {
   "cell_type": "markdown",
   "metadata": {},
   "source": [
    "These are the clips that I handpicked from YouTube. They are solo guitar recordings and were recorded in a professional studio.\n",
    "To watch any of them, just add the youtube url prefix. For example:\n",
    "**\"foIPN-T7RGo\" ➡️ \"youtube.com/watch?v=foIPN-T7RGo\"**"
   ]
  },
  {
   "cell_type": "code",
   "execution_count": 10,
   "metadata": {
    "id": "bQUDv17Hyvm1"
   },
   "outputs": [],
   "source": [
    "steel_clips = [\"foIPN-T7RGo\",\"10ATKnZLg9c\",\"IP8vBL5Q8Ac\"]\n",
    "nylon_clips = [\"qgb-bdEEI-M\",\"qXwvz-nTiog\",\"6jQ34uTmA9s\"]"
   ]
  },
  {
   "cell_type": "markdown",
   "metadata": {},
   "source": [
    "Next, we define our function to download and extract audio from a YouTube url:"
   ]
  },
  {
   "cell_type": "code",
   "execution_count": 11,
   "metadata": {
    "id": "w9eNiG__yvm2"
   },
   "outputs": [],
   "source": [
    "from pytube import YouTube\n",
    "\n",
    "def download_youtube_mp3(link, output_dir):\n",
    "    \"\"\"\n",
    "    Download and extract audio from a clip from youtube \n",
    "    \"\"\"\n",
    "    yt=YouTube(f\"youtube.com/watch?v={link}\")\n",
    "    t=yt.streams.filter(only_audio=True).first().download(output_dir, link + \".mp3\")\n",
    "    print(f\"Downloaded YouTube Audio from: {link}\")"
   ]
  },
  {
   "cell_type": "markdown",
   "metadata": {},
   "source": [
    "Each clip is over 60 minutes long, which could take a long time to download.\n",
    "To accelerate, we will create a downloading thread for each clip and download all clips simultaneously."
   ]
  },
  {
   "cell_type": "code",
   "execution_count": 12,
   "metadata": {
    "id": "5XrXfldIyvm3"
   },
   "outputs": [],
   "source": [
    "download_thread_list = []\n",
    "\n",
    "for link in steel_clips:\n",
    "  new_thread = threading.Thread(target=download_youtube_mp3, args=(link, RAW_CLIP_PATH + \"steel\"))\n",
    "  download_thread_list.append(new_thread)\n",
    "\n",
    "for link in nylon_clips:\n",
    "  new_thread = threading.Thread(target=download_youtube_mp3, args=(link, RAW_CLIP_PATH + \"nylon\"))\n",
    "  download_thread_list.append(new_thread)"
   ]
  },
  {
   "cell_type": "code",
   "execution_count": 13,
   "metadata": {
    "colab": {
     "base_uri": "https://localhost:8080/"
    },
    "id": "e_Ct9PqU0rqD",
    "outputId": "faab5110-5975-4b7a-ba1f-a6c1f813f88a"
   },
   "outputs": [
    {
     "name": "stdout",
     "output_type": "stream",
     "text": [
      "Download Raw Clips starting...\n",
      "Downloaded YouTube Audio from: foIPN-T7RGo\n",
      "Downloaded YouTube Audio from: 6jQ34uTmA9s\n",
      "Downloaded YouTube Audio from: qgb-bdEEI-M\n",
      "Downloaded YouTube Audio from: qXwvz-nTiog\n",
      "Downloaded YouTube Audio from: 10ATKnZLg9c\n",
      "Downloaded YouTube Audio from: IP8vBL5Q8Ac\n",
      "Download Raw Clips finished!\n"
     ]
    }
   ],
   "source": [
    "print(\"Download Raw Clips starting...\")\n",
    "# start each thread\n",
    "for thread in download_thread_list:\n",
    "  thread.start()\n",
    "\n",
    "# wait for all to finish\n",
    "for thread in download_thread_list:\n",
    "  thread.join()\n",
    "\n",
    "# successfully excecuted\n",
    "print(\"Download Raw Clips finished!\")"
   ]
  },
  {
   "cell_type": "markdown",
   "metadata": {
    "id": "vXo7I5COyvm4"
   },
   "source": [
    "## Segmentize into 5-second clips"
   ]
  },
  {
   "cell_type": "markdown",
   "metadata": {},
   "source": [
    "Now, let's create some function to segment each audio clip into segments of 5 second long."
   ]
  },
  {
   "cell_type": "code",
   "execution_count": 14,
   "metadata": {
    "id": "t1oFdBWjyvm4"
   },
   "outputs": [],
   "source": [
    "def segmentize_signal(signal, sr, dur):\n",
    "    \"\"\"\n",
    "    Segmentize the 1-d signal (mono) to a list of clips with custom duration (dur).\n",
    "    \"\"\"\n",
    "    seg_len = dur * sr\n",
    "\n",
    "    # calculate number of segments\n",
    "    no_segs = len(signal) // seg_len\n",
    "\n",
    "\n",
    "    # truncate input signal to have length divisiable by seg_len\n",
    "    trunc_len = int(no_segs * seg_len)\n",
    "\n",
    "    # split equally\n",
    "    return np.split(signal[:trunc_len], no_segs)\n",
    "\n",
    "def save_audio(signal, sr, output_dir, filename):\n",
    "    output_path = os.path.join(output_dir, filename)\n",
    "    # torchaudio.save(output_path, signal, sr)\n",
    "    # print(output_path, sr)\n",
    "    sf.write(output_path, signal, sr)\n",
    "\n",
    "def segment_audio_file(audio_path, output_dir,  target_sr=TARGET_SR, segment_duration=SEGMENT_DURATION):\n",
    "    print(f\"Processing raw clip: {audio_path}\")\n",
    "    signal, _ = librosa.load(audio_path, sr=target_sr, mono=True)\n",
    "    # signal, target_sr = librosa.load(audio_path,sr=None,  mono=True)\n",
    "    print(f\"\\tLoaded clip from disk\")\n",
    "    segments_list = segmentize_signal(signal, target_sr, segment_duration)\n",
    "    print(f\"\\tSegmented clip into {len(segments_list)} segments\")\n",
    "    for seg_idx, seg in enumerate(segments_list):\n",
    "        seg_name = f\"{audio_path.split('/')[-1][:-4]}_{seg_idx}.wav\"\n",
    "        save_audio(seg, target_sr, output_dir, seg_name)\n",
    "    print(f\"\\tSegments are saved completely\")"
   ]
  },
  {
   "cell_type": "markdown",
   "metadata": {
    "id": "eUlPt0tD4xby"
   },
   "source": [
    "Next, we use threading to segmentize all clips at the same time. Beware that if your system has less than 32GB of RAM, this could cause the system to freeze and run out of memory. In such case, please modify the code before do it sequentially (i.e. without threading)"
   ]
  },
  {
   "cell_type": "code",
   "execution_count": 17,
   "metadata": {
    "id": "95et-s7oyvm5"
   },
   "outputs": [
    {
     "name": "stdout",
     "output_type": "stream",
     "text": [
      "Segmentation starting...\n",
      "Processing raw clip: /workspace/data/raw/nylon/qXwvz-nTiog.mp3\n",
      "Processing raw clip: /workspace/data/raw/nylon/6jQ34uTmA9s.mp3\n",
      "Processing raw clip: /workspace/data/raw/nylon/qgb-bdEEI-M.mp3\n",
      "Processing raw clip: /workspace/data/raw/steel/IP8vBL5Q8Ac.mp3\n",
      "Processing raw clip: /workspace/data/raw/steel/foIPN-T7RGo.mp3\n"
     ]
    },
    {
     "name": "stderr",
     "output_type": "stream",
     "text": [
      "/opt/conda/lib/python3.7/site-packages/librosa/util/decorators.py:88: UserWarning: PySoundFile failed. Trying audioread instead.\n",
      "  return f(*args, **kwargs)\n",
      "/opt/conda/lib/python3.7/site-packages/librosa/util/decorators.py:88: UserWarning: PySoundFile failed. Trying audioread instead.\n",
      "  return f(*args, **kwargs)\n"
     ]
    },
    {
     "name": "stdout",
     "output_type": "stream",
     "text": [
      "Processing raw clip: /workspace/data/raw/steel/10ATKnZLg9c.mp3\n"
     ]
    },
    {
     "name": "stderr",
     "output_type": "stream",
     "text": [
      "/opt/conda/lib/python3.7/site-packages/librosa/util/decorators.py:88: UserWarning: PySoundFile failed. Trying audioread instead.\n",
      "  return f(*args, **kwargs)\n"
     ]
    },
    {
     "name": "stdout",
     "output_type": "stream",
     "text": [
      "\tLoaded clip from disk\n",
      "\tSegmented clip into 648 segments\n",
      "\tSegments are saved completely\n",
      "\tLoaded clip from disk\n",
      "\tSegmented clip into 742 segments\n",
      "\tSegments are saved completely\n",
      "\tLoaded clip from disk\n",
      "\tSegmented clip into 1230 segments\n",
      "\tSegments are saved completely\n",
      "\tLoaded clip from disk\n",
      "\tSegmented clip into 1251 segments\n",
      "\tSegments are saved completely\n",
      "\tLoaded clip from disk\n",
      "\tSegmented clip into 1427 segments\n",
      "\tSegments are saved completely\n",
      "\tLoaded clip from disk\n",
      "\tSegmented clip into 2647 segments\n",
      "\tSegments are saved completely\n",
      "Segmentation finished!\n"
     ]
    }
   ],
   "source": [
    "thread_list = []\n",
    "\n",
    "for cls in CLASSES:\n",
    "# get all raw files from subfolders\n",
    "    raw_audio_paths = glob(f\"{RAW_CLIP_PATH}{cls}/*mp3\")\n",
    "    for audio_path in raw_audio_paths:\n",
    "        output_dir = f\"{SEGMENT_DIR}{cls}\"\n",
    "        new_thread = threading.Thread(target=segment_audio_file, args=(audio_path, output_dir))\n",
    "        thread_list.append(new_thread)\n",
    "        \n",
    "print(\"Segmentation starting...\")\n",
    "# start each thread\n",
    "for thread in thread_list:\n",
    "  thread.start()\n",
    "\n",
    "# wait for all to finish\n",
    "for thread in thread_list:\n",
    "  thread.join()\n",
    "\n",
    "# successfully excecuted\n",
    "print(\"Segmentation finished!\")"
   ]
  },
  {
   "cell_type": "markdown",
   "metadata": {
    "id": "ovaIPKcFFX8h",
    "jp-MarkdownHeadingCollapsed": true,
    "tags": []
   },
   "source": [
    "# Dataset & Dataloader"
   ]
  },
  {
   "cell_type": "markdown",
   "metadata": {},
   "source": [
    "PyTorch manages data through two types of classes: Dataset and Data;oader.\n",
    "Dataset could be thought of as an iterator that allows us to access each individual data point.\n",
    "And, Dataloader is a way to efficiently load data in batch, which is useful for mini-batch training.\n",
    "For more detailed description, read here: https://pytorch.org/tutorials/beginner/basics/data_tutorial.html"
   ]
  },
  {
   "cell_type": "markdown",
   "metadata": {
    "id": "8J_kzx93FdYD"
   },
   "source": [
    "## Create annotations"
   ]
  },
  {
   "cell_type": "markdown",
   "metadata": {},
   "source": [
    "Before creating our own dataset class, we need to have a csv file to describe our training / val / test sets.\n",
    "\n",
    "This annotation dataframe stores the paths to each audio sample and its label:"
   ]
  },
  {
   "cell_type": "code",
   "execution_count": 5,
   "metadata": {
    "id": "Mo9IOQYNFXhY"
   },
   "outputs": [],
   "source": [
    "annotation_dict = {\"audio_path\": [], \"label\": []}\n",
    "\n",
    "\n",
    "for label, cls in enumerate(CLASSES):\n",
    "  wav_dirs = f\"{SEGMENT_DIR}{cls}/*wav\"\n",
    "  audio_path_list = glob(wav_dirs)\n",
    "  count_audio_files = len(audio_path_list)\n",
    "  label_list = [label] * count_audio_files\n",
    "\n",
    "  annotation_dict[\"audio_path\"] += audio_path_list\n",
    "  annotation_dict[\"label\"]      += label_list"
   ]
  },
  {
   "cell_type": "code",
   "execution_count": 6,
   "metadata": {
    "colab": {
     "base_uri": "https://localhost:8080/",
     "height": 206
    },
    "id": "KguLidWCHScS",
    "outputId": "dff2ec50-64d7-4dff-bf98-144913d2b549"
   },
   "outputs": [
    {
     "data": {
      "text/html": [
       "<div>\n",
       "<style scoped>\n",
       "    .dataframe tbody tr th:only-of-type {\n",
       "        vertical-align: middle;\n",
       "    }\n",
       "\n",
       "    .dataframe tbody tr th {\n",
       "        vertical-align: top;\n",
       "    }\n",
       "\n",
       "    .dataframe thead th {\n",
       "        text-align: right;\n",
       "    }\n",
       "</style>\n",
       "<table border=\"1\" class=\"dataframe\">\n",
       "  <thead>\n",
       "    <tr style=\"text-align: right;\">\n",
       "      <th></th>\n",
       "      <th>audio_path</th>\n",
       "      <th>label</th>\n",
       "    </tr>\n",
       "  </thead>\n",
       "  <tbody>\n",
       "    <tr>\n",
       "      <th>7940</th>\n",
       "      <td>./data/segments/steel/foIPN-T7RGo_575.wav</td>\n",
       "      <td>1</td>\n",
       "    </tr>\n",
       "    <tr>\n",
       "      <th>7941</th>\n",
       "      <td>./data/segments/steel/10ATKnZLg9c_545.wav</td>\n",
       "      <td>1</td>\n",
       "    </tr>\n",
       "    <tr>\n",
       "      <th>7942</th>\n",
       "      <td>./data/segments/steel/10ATKnZLg9c_1035.wav</td>\n",
       "      <td>1</td>\n",
       "    </tr>\n",
       "    <tr>\n",
       "      <th>7943</th>\n",
       "      <td>./data/segments/steel/10ATKnZLg9c_602.wav</td>\n",
       "      <td>1</td>\n",
       "    </tr>\n",
       "    <tr>\n",
       "      <th>7944</th>\n",
       "      <td>./data/segments/steel/IP8vBL5Q8Ac_1146.wav</td>\n",
       "      <td>1</td>\n",
       "    </tr>\n",
       "  </tbody>\n",
       "</table>\n",
       "</div>"
      ],
      "text/plain": [
       "                                      audio_path  label\n",
       "7940   ./data/segments/steel/foIPN-T7RGo_575.wav      1\n",
       "7941   ./data/segments/steel/10ATKnZLg9c_545.wav      1\n",
       "7942  ./data/segments/steel/10ATKnZLg9c_1035.wav      1\n",
       "7943   ./data/segments/steel/10ATKnZLg9c_602.wav      1\n",
       "7944  ./data/segments/steel/IP8vBL5Q8Ac_1146.wav      1"
      ]
     },
     "execution_count": 6,
     "metadata": {},
     "output_type": "execute_result"
    }
   ],
   "source": [
    "annotation_df = pd.DataFrame.from_dict(annotation_dict)\n",
    "annotation_df.tail()"
   ]
  },
  {
   "cell_type": "markdown",
   "metadata": {},
   "source": [
    "The data is quite enormously for an average system. That's why I seperated the training data set to full, half, quarter, and one eighth. This allows me to build and test model fast (by using a smaller training dataset). When I find something that works well, I can then use a larger training dataset to improve the training."
   ]
  },
  {
   "cell_type": "code",
   "execution_count": 7,
   "metadata": {
    "id": "FfZ8ituFFXek"
   },
   "outputs": [],
   "source": [
    "train_df_full = annotation_df.sample(frac=TRAIN_SIZE, random_state=RANDOM_SEED)\n",
    "val_df = annotation_df.drop(train_df_full.index, axis=0)\n",
    "\n",
    "# make smaller train datasets for quick experimentations\n",
    "train_df_half = train_df_full.sample(frac=1/2, random_state=RANDOM_SEED)\n",
    "train_df_quarter = train_df_full.sample(frac=1/4, random_state=RANDOM_SEED)\n",
    "train_df_1eight = train_df_full.sample(frac=1/8, random_state=RANDOM_SEED)"
   ]
  },
  {
   "cell_type": "markdown",
   "metadata": {},
   "source": [
    "We have 4816 samples of NYLON, and 3129 of STEEL"
   ]
  },
  {
   "cell_type": "code",
   "execution_count": 28,
   "metadata": {},
   "outputs": [
    {
     "data": {
      "text/plain": [
       "0    4816\n",
       "1    3129\n",
       "Name: label, dtype: int64"
      ]
     },
     "execution_count": 28,
     "metadata": {},
     "output_type": "execute_result"
    }
   ],
   "source": [
    "annotation_df[\"label\"].value_counts()"
   ]
  },
  {
   "cell_type": "markdown",
   "metadata": {},
   "source": [
    "Finally, let's write them to CSV files for later use."
   ]
  },
  {
   "cell_type": "code",
   "execution_count": 8,
   "metadata": {
    "id": "5kC-nBKPIYaJ"
   },
   "outputs": [],
   "source": [
    "df_list = [train_df_full, train_df_half, train_df_quarter, train_df_1eight, val_df]\n",
    "\n",
    "df_names = [\"train_df_full\", \"train_df_half\", \"train_df_quarter\", \"train_df_1eight\", \"val_df\"]\n",
    "\n",
    "for df_name, df_content in zip(df_names, df_list):\n",
    "    df_content.to_csv(f\"{DATA_DIR}{df_name}.csv\", index=False)"
   ]
  },
  {
   "cell_type": "markdown",
   "metadata": {
    "id": "lhukMV-zFhi-"
   },
   "source": [
    "## Dataset class"
   ]
  },
  {
   "cell_type": "markdown",
   "metadata": {},
   "source": [
    "We create GuitarSoundDataset which inherets Dataset from PyTorch. This class holds the annotation that we created earlier and helps us access and preprocess each individual input and label.\n",
    "\n",
    "To create this class, I took inspiration from this awesome Deep Learning for Audio channel: https://www.youtube.com/watch?v=iCwMQJnKk2c&t=1s&ab_channel=ValerioVelardo-TheSoundofAI"
   ]
  },
  {
   "cell_type": "code",
   "execution_count": 33,
   "metadata": {
    "id": "K2FDn000IjCC",
    "tags": []
   },
   "outputs": [],
   "source": [
    "from torch.utils.data import Dataset\n",
    "\n",
    "class GuitarSoundDataset(Dataset):\n",
    "\n",
    "    def __init__(self,\n",
    "                 annotations_file,\n",
    "                 transformation,\n",
    "                 target_sample_rate,\n",
    "                 num_samples,\n",
    "                 device,\n",
    "                 audio_col=\"audio_path\",\n",
    "                 label_col=\"label\"):\n",
    "        self.annotations = pd.read_csv(annotations_file)\n",
    "        self.device = device\n",
    "        if transformation:\n",
    "          self.transformation = transformation.to(self.device)\n",
    "        else:\n",
    "          self.transformation = None\n",
    "        self.target_sample_rate = target_sample_rate\n",
    "        self.num_samples = num_samples\n",
    "        self.audio_col = audio_col\n",
    "        self.label_col = label_col\n",
    "\n",
    "    def __len__(self):\n",
    "        return len(self.annotations)\n",
    "\n",
    "    def __getitem__(self, index):\n",
    "        audio_sample_path = self.__get_audio_sample_path(index)\n",
    "        label = self.__get_audio_sample_label(index)\n",
    "        signal, sr = torchaudio.load(audio_sample_path)\n",
    "        if signal.dim() < 2:\n",
    "          signal = signal[None, :]\n",
    "        signal = signal.to(self.device)\n",
    "        signal, sr = self.preprocess_signal(signal, sr)\n",
    "        if self.transformation:\n",
    "          signal = self.transformation(signal)\n",
    "        return signal, label\n",
    "\n",
    "    def preprocess_signal(self, signal, sr):\n",
    "        signal = self.__resample_if_necessary(signal, sr)\n",
    "        signal = self.__mix_down_if_necessary(signal)\n",
    "        signal = self.__cut_if_necessary(signal)\n",
    "        signal = self.__right_pad_if_necessary(signal)\n",
    "        return signal, sr\n",
    "\n",
    "    def __cut_if_necessary(self, signal):\n",
    "        if signal.shape[1] > self.num_samples:\n",
    "            signal = signal[:, :self.num_samples]\n",
    "        return signal\n",
    "\n",
    "    def __right_pad_if_necessary(self, signal):\n",
    "        length_signal = signal.shape[1]\n",
    "        if length_signal < self.num_samples:\n",
    "            num_missing_samples = self.num_samples - length_signal\n",
    "            last_dim_padding = (0, num_missing_samples)\n",
    "            signal = torch.nn.functional.pad(signal, last_dim_padding)\n",
    "        return signal\n",
    "\n",
    "    def __resample_if_necessary(self, signal, sr):\n",
    "        if sr != self.target_sample_rate:\n",
    "            resampler = torchaudio.transforms.Resample(sr, self.target_sample_rate).to(self.device)\n",
    "            signal = resampler(signal)\n",
    "        return signal\n",
    "\n",
    "    def __mix_down_if_necessary(self, signal):\n",
    "        if signal.shape[0] > 1:\n",
    "            signal = torch.mean(signal, dim=0, keepdim=True)\n",
    "        return signal\n",
    "\n",
    "    def __get_audio_sample_path(self, index):\n",
    "        path = self.annotations.iloc[index, :][self.audio_col]\n",
    "        return path\n",
    "\n",
    "    def __get_audio_sample_label(self, index):\n",
    "        label =  self.annotations.iloc[index, :][self.label_col]\n",
    "        return torch.tensor(label, dtype=torch.float)"
   ]
  },
  {
   "cell_type": "markdown",
   "metadata": {
    "id": "OHcU0e6FJbtl"
   },
   "source": [
    "## DataLoader"
   ]
  },
  {
   "cell_type": "code",
   "execution_count": 34,
   "metadata": {
    "id": "wIUhTBKfJdKW"
   },
   "outputs": [],
   "source": [
    "from torch.utils.data import DataLoader\n",
    "\n",
    "def create_data_loader(dataset, batch_size):\n",
    "    dataset_loader = DataLoader(dataset, batch_size=batch_size)\n",
    "    return dataset_loader"
   ]
  },
  {
   "cell_type": "markdown",
   "metadata": {},
   "source": [
    "Mel Spectrogram transforms our signal from time-domain into frequency-domain, which helps not only human but also computers to understand the characteristic of sound input better. Thus, we need to transform each audio input into mel spec before feeding it into the neural network."
   ]
  },
  {
   "cell_type": "code",
   "execution_count": 54,
   "metadata": {
    "colab": {
     "base_uri": "https://localhost:8080/"
    },
    "id": "vUeb2YStMOFy",
    "outputId": "f454dba2-2f61-4430-eff1-540f19803591"
   },
   "outputs": [
    {
     "name": "stdout",
     "output_type": "stream",
     "text": [
      "There are 3774 samples in the TRAIN dataset.\n",
      "There are 397 samples in the VAL dataset.\n"
     ]
    }
   ],
   "source": [
    "mel_spectrogram = torchaudio.transforms.MelSpectrogram(\n",
    "      sample_rate=TARGET_SR,\n",
    "      n_fft=1024,\n",
    "      hop_length=512,\n",
    "      n_mels=64\n",
    "  )\n",
    "\n",
    "train_dataset = GuitarSoundDataset(\n",
    "                      annotations_file =f\"{DATA_DIR}train_df_half.csv\",\n",
    "                      transformation = mel_spectrogram,\n",
    "                      target_sample_rate = TARGET_SR,\n",
    "                      num_samples = TARGET_SR * SEGMENT_DURATION,\n",
    "                      device = device)\n",
    "print(f\"There are {len(train_dataset)} samples in the TRAIN dataset.\")\n",
    "\n",
    "val_dataset = GuitarSoundDataset(f\"{DATA_DIR}val_df.csv\",\n",
    "                      transformation = mel_spectrogram,\n",
    "                      target_sample_rate = TARGET_SR,\n",
    "                      num_samples = TARGET_SR * SEGMENT_DURATION,\n",
    "                      device = device)\n",
    "print(f\"There are {len(val_dataset)} samples in the VAL dataset.\")"
   ]
  },
  {
   "cell_type": "markdown",
   "metadata": {},
   "source": [
    "We will take one sample out to find out the exact input shape for our neural network"
   ]
  },
  {
   "cell_type": "code",
   "execution_count": 38,
   "metadata": {},
   "outputs": [
    {
     "data": {
      "text/plain": [
       "torch.Size([1, 64, 79])"
      ]
     },
     "execution_count": 38,
     "metadata": {},
     "output_type": "execute_result"
    }
   ],
   "source": [
    "signal_sample, _ = val_dataset[0]\n",
    "signal_sample.shape"
   ]
  },
  {
   "cell_type": "markdown",
   "metadata": {
    "id": "o4150vMaPaJE"
   },
   "source": [
    "# Build Model"
   ]
  },
  {
   "cell_type": "markdown",
   "metadata": {
    "id": "H-aACSnpQ0dZ"
   },
   "source": [
    "## Training Loop"
   ]
  },
  {
   "cell_type": "markdown",
   "metadata": {},
   "source": [
    "Because the training and validating loops are pretty basic, I don't delve into these code too much. \n",
    "The official tutorial is where I took inspiration from: https://pytorch.org/tutorials/beginner/blitz/cifar10_tutorial.html"
   ]
  },
  {
   "cell_type": "code",
   "execution_count": 12,
   "metadata": {
    "id": "aRYNfc9jQ1np",
    "jupyter": {
     "source_hidden": true
    },
    "tags": []
   },
   "outputs": [],
   "source": [
    "def compute_accuracy(preds, target):\n",
    "  _preds = preds.detach().cpu().numpy()\n",
    "  _target = target.detach().cpu().numpy()\n",
    "  return np.mean(_preds.squeeze().round() == _target.squeeze())\n",
    "\n",
    "def train_single_epoch(model, data_loader, loss_fn, optimiser, device):\n",
    "  size = len(data_loader.dataset)\n",
    "  train_losses = []\n",
    "  train_accs = []\n",
    "\n",
    "  model.train(True)\n",
    "  for batch, (input, target) in enumerate(data_loader):\n",
    "      input, target = input.to(device), target.to(device)\n",
    "\n",
    "      # calculate loss\n",
    "      preds = model(input)\n",
    "      loss = loss_fn(preds.squeeze(), target.squeeze())\n",
    "      train_losses.append(loss.item())\n",
    "\n",
    "\n",
    "      # backpropagate error and update weights\n",
    "      optimiser.zero_grad()\n",
    "      loss.backward()\n",
    "      optimiser.step()\n",
    "\n",
    "      # calculate accuracy\n",
    "      acc = compute_accuracy(preds, target)\n",
    "      train_accs.append(acc)\n",
    "\n",
    "  return np.mean(train_losses), np.mean(train_accs)\n",
    "\n",
    "def validate(model, data_loader, loss_fn, device):\n",
    "  # model.train(False)\n",
    "  val_losses = []\n",
    "  val_accs = []\n",
    "  with torch.inference_mode():\n",
    "    for input, target in data_loader:\n",
    "      input, target = input.to(device), target.to(device)\n",
    "\n",
    "      # calculate loss\n",
    "      preds = model(input)\n",
    "      loss = loss_fn(preds.squeeze(), target.squeeze())\n",
    "      val_losses.append(loss.item())\n",
    "\n",
    "      # calculate acc\n",
    "      acc = compute_accuracy(preds, target)\n",
    "      val_accs.append(acc)\n",
    "\n",
    "    return np.mean(val_losses), np.mean(val_accs)\n",
    "\n",
    "def save_model(model, model_dir):\n",
    "  torch.save(model.state_dict(), model_dir)\n",
    "\n",
    "def train(model, train_dataloader, test_dataloader, loss_fn, optimiser, device, epochs, save_best=True, model_dir=\"bestmodel.pth\"):\n",
    "  train_losses = []\n",
    "  train_accs = []\n",
    "  val_losses = []\n",
    "  val_accs = []\n",
    "  for i in range(epochs):\n",
    "      # training\n",
    "      train_loss, train_acc = train_single_epoch(model, train_dataloader, loss_fn, optimiser, device)\n",
    "      # val\n",
    "      val_loss, val_acc = validate(model, test_dataloader, loss_fn, device)\n",
    "      print(f\"Epoch {i+1} | train loss: {train_loss:.5f}, train acc: {train_acc:.3%} | val loss: {val_loss:.5f}, val acc: {val_acc:.3%}\")\n",
    "\n",
    "      # save best val acc\n",
    "      if save_best and len(val_losses) > 0 and val_acc > np.max(val_accs):\n",
    "        # save model\n",
    "        print(\"-> Best Model found! Saving to disk...\")\n",
    "        save_model(model, model_dir)\n",
    "\n",
    "      # update losses\n",
    "      train_losses.append(train_loss)\n",
    "      val_losses.append(val_loss)\n",
    "      train_accs.append(train_acc)\n",
    "      val_accs.append(val_acc)\n",
    "  print(\"Finished training\")\n",
    "  return train_losses, train_accs, val_losses, val_accs"
   ]
  },
  {
   "cell_type": "code",
   "execution_count": 13,
   "metadata": {
    "jupyter": {
     "source_hidden": true
    },
    "tags": []
   },
   "outputs": [],
   "source": [
    "def plot_model(model_history):\n",
    "    train_losses, train_accs, val_losses, val_accs = model_history\n",
    "    # Plot Loss\n",
    "    plt.plot(range(len(train_losses)), train_losses, label='Training Loss')\n",
    "    plt.plot(range(len(train_losses)), val_losses, label='Validation Loss')\n",
    "    \n",
    "    # Add in a title and axes labels\n",
    "    plt.title('Training and Validation Loss')\n",
    "    plt.xlabel('Epochs')\n",
    "    plt.ylabel('Loss')\n",
    "    plt.legend(loc=\"upper left\")\n",
    "    plt.show()    \n",
    "    \n",
    "    # Plot Acc\n",
    "    plt.plot(range(len(train_accs)), train_accs, label='Training Acc')\n",
    "    plt.plot(range(len(train_accs)), val_accs, label='Validation Acc')\n",
    "    \n",
    "    # Add in a title and axes labels\n",
    "    plt.title('Training and Validation Acc')\n",
    "    plt.xlabel('Epochs')\n",
    "    plt.ylabel('Accuracy')\n",
    "    plt.legend(loc=\"upper left\")\n",
    "    plt.show()\n",
    "    \n",
    "def describe_model_stats(model_history):\n",
    "    train_losses, train_accs, val_losses, val_accs = model_history\n",
    "    history = {\"train_losses\": train_losses, \"train_accs\": train_accs, \"val_losses\": val_losses, \"val_accs\": val_accs}\n",
    "    print(pd.DataFrame.from_dict(history).describe())    "
   ]
  },
  {
   "cell_type": "markdown",
   "metadata": {
    "id": "cC8Y2mQgJ_1b"
   },
   "source": [
    "## MLP Model Building: 2 hidden layers with ReLu Activation"
   ]
  },
  {
   "cell_type": "markdown",
   "metadata": {},
   "source": [
    "I define a simple MLP with 2 hidden fully connected layers with relu activation. The final output is then taken by sigmoid to produce probabily prediction."
   ]
  },
  {
   "cell_type": "code",
   "execution_count": 40,
   "metadata": {
    "colab": {
     "base_uri": "https://localhost:8080/"
    },
    "collapsed": true,
    "id": "RkwN_xRtPcNI",
    "jupyter": {
     "outputs_hidden": true,
     "source_hidden": true
    },
    "outputId": "886053b0-6fd9-4a8e-c41e-53c888c9dc3d",
    "tags": []
   },
   "outputs": [
    {
     "name": "stdout",
     "output_type": "stream",
     "text": [
      "----------------------------------------------------------------\n",
      "        Layer (type)               Output Shape         Param #\n",
      "================================================================\n",
      "           Flatten-1                 [-1, 5056]               0\n",
      "            Linear-2                  [-1, 256]       1,294,592\n",
      "              ReLU-3                  [-1, 256]               0\n",
      "            Linear-4                  [-1, 128]          32,896\n",
      "              ReLU-5                  [-1, 128]               0\n",
      "            Linear-6                    [-1, 1]             129\n",
      "================================================================\n",
      "Total params: 1,327,617\n",
      "Trainable params: 1,327,617\n",
      "Non-trainable params: 0\n",
      "----------------------------------------------------------------\n",
      "Input size (MB): 0.02\n",
      "Forward/backward pass size (MB): 0.04\n",
      "Params size (MB): 5.06\n",
      "Estimated Total Size (MB): 5.13\n",
      "----------------------------------------------------------------\n"
     ]
    }
   ],
   "source": [
    "from torch import nn\n",
    "from torchsummary import summary\n",
    "\n",
    "\n",
    "class MLPNetwork(nn.Module):\n",
    "\n",
    "    def __init__(self):\n",
    "        super().__init__()\n",
    "        self.flatten = nn.Flatten()\n",
    "        self.linear = nn.Sequential(\n",
    "            nn.Linear(1 * 64 * 79, 256), # I got the number (1 * 64 * 79) as input size from the code above\n",
    "            nn.ReLU(),\n",
    "            nn.Linear(256, 128),\n",
    "            nn.ReLU(),\n",
    "            nn.Linear(128, 1),\n",
    "        )\n",
    "\n",
    "    def forward(self, input_data):\n",
    "        x = self.flatten(input_data)\n",
    "        logits = self.linear(x)\n",
    "        predictions = torch.sigmoid(logits)\n",
    "        return predictions\n",
    "        # return x\n",
    "\n",
    "\n",
    "if __name__ == \"__main__\":\n",
    "    model2 = MLPNetwork()\n",
    "    summary(model2.to(device), (1, 64, 79))"
   ]
  },
  {
   "cell_type": "markdown",
   "metadata": {
    "id": "esMZltQBSGQG"
   },
   "source": [
    "Audio input is complex, with an audio sample of 5-second long at 8000 Hz sampling rate, we have an input of 5056 already.\n",
    "\n",
    "And, this simple MLP model already has 1.3+ millions params."
   ]
  },
  {
   "cell_type": "markdown",
   "metadata": {},
   "source": [
    "Now, let's create a folder to store our trained params."
   ]
  },
  {
   "cell_type": "code",
   "execution_count": 41,
   "metadata": {},
   "outputs": [],
   "source": [
    "MODEL_DIR = f\"{ROOT_DIR}weights/\"\n",
    "\n",
    "if not os.path.exists(MODEL_DIR):\n",
    "    os.makedirs(MODEL_DIR)"
   ]
  },
  {
   "cell_type": "markdown",
   "metadata": {},
   "source": [
    "Then, define some hyper params for training and create dataloader for each training and validation dataset"
   ]
  },
  {
   "cell_type": "code",
   "execution_count": 44,
   "metadata": {
    "colab": {
     "base_uri": "https://localhost:8080/"
    },
    "id": "LNK7gFeeRJmS",
    "jupyter": {
     "source_hidden": true
    },
    "outputId": "28a57eaa-a064-4765-e331-d3c0c146e568",
    "tags": []
   },
   "outputs": [],
   "source": [
    "BATCH_SIZE = 128\n",
    "EPOCHS = 15\n",
    "LEARNING_RATE = 0.001\n",
    "    \n",
    "train_dataloader = create_data_loader(train_dataset, BATCH_SIZE)\n",
    "val_dataloader = create_data_loader(val_dataset, BATCH_SIZE)"
   ]
  },
  {
   "cell_type": "markdown",
   "metadata": {},
   "source": [
    "Now, let's train our model!"
   ]
  },
  {
   "cell_type": "code",
   "execution_count": 45,
   "metadata": {
    "colab": {
     "base_uri": "https://localhost:8080/"
    },
    "collapsed": true,
    "id": "BhLCE67rSJVS",
    "jupyter": {
     "outputs_hidden": true
    },
    "outputId": "afbe83f5-44a7-492e-aede-54aeaed7b640",
    "tags": []
   },
   "outputs": [
    {
     "name": "stdout",
     "output_type": "stream",
     "text": [
      "Best models will saved to: ./weights/ (based on val acc)\n",
      "Epoch 1 | train loss: 18.60054, train acc: 74.353% | val loss: 18.41207, val acc: 79.943%\n",
      "Epoch 2 | train loss: 16.17105, train acc: 80.607% | val loss: 14.15756, val acc: 82.287%\n",
      "-> Best Model found! Saving to disk...\n",
      "Epoch 3 | train loss: 16.04773, train acc: 79.716% | val loss: 22.44626, val acc: 72.251%\n",
      "Epoch 4 | train loss: 15.91658, train acc: 80.841% | val loss: 24.57104, val acc: 72.446%\n",
      "Epoch 5 | train loss: 15.68584, train acc: 81.720% | val loss: 26.59615, val acc: 71.274%\n",
      "Epoch 6 | train loss: 17.09794, train acc: 80.188% | val loss: 15.84533, val acc: 81.671%\n",
      "Epoch 7 | train loss: 15.53885, train acc: 82.014% | val loss: 15.38519, val acc: 80.364%\n",
      "Epoch 8 | train loss: 12.86597, train acc: 84.409% | val loss: 19.71215, val acc: 75.931%\n",
      "Epoch 9 | train loss: 12.15642, train acc: 85.247% | val loss: 13.57315, val acc: 81.926%\n",
      "Epoch 10 | train loss: 11.81812, train acc: 84.438% | val loss: 12.96833, val acc: 81.145%\n",
      "Epoch 11 | train loss: 10.44457, train acc: 86.577% | val loss: 10.41160, val acc: 82.677%\n",
      "-> Best Model found! Saving to disk...\n",
      "Epoch 12 | train loss: 8.54932, train acc: 88.063% | val loss: 7.47481, val acc: 84.826%\n",
      "-> Best Model found! Saving to disk...\n",
      "Epoch 13 | train loss: 7.18438, train acc: 88.478% | val loss: 6.82821, val acc: 83.263%\n",
      "Epoch 14 | train loss: 5.54964, train acc: 89.264% | val loss: 4.69765, val acc: 84.405%\n",
      "Epoch 15 | train loss: 2.19403, train acc: 89.026% | val loss: 1.49113, val acc: 84.075%\n",
      "Finished training\n"
     ]
    }
   ],
   "source": [
    "MODEL_SAVE_PATH = f\"{MODEL_DIR}model_mlp1.pth\"\n",
    "print(f\"Best models will saved to: {MODEL_DIR} (based on val acc)\")\n",
    "\n",
    "model1 = MLPNetwork()\n",
    "\n",
    "\n",
    "if os.path.exists(MODEL_SAVE_PATH):\n",
    "  model1.load_state_dict(torch.load(MODEL_SAVE_PATH, map_location=torch.device(device)))\n",
    "\n",
    "model1 = model1.to(device)\n",
    "\n",
    "# initialise loss funtion + optimiser\n",
    "loss_fn = nn.BCELoss()\n",
    "\n",
    "optimiser = torch.optim.Adam(model1.parameters(),\n",
    "                                lr=LEARNING_RATE)\n",
    "\n",
    "# train model\n",
    "history_model1 = train(model1, train_dataloader, val_dataloader, loss_fn, optimiser, device, EPOCHS, save_best=True, model_dir=MODEL_SAVE_PATH)"
   ]
  },
  {
   "cell_type": "code",
   "execution_count": 47,
   "metadata": {},
   "outputs": [
    {
     "name": "stdout",
     "output_type": "stream",
     "text": [
      "       train_losses  train_accs  val_losses   val_accs\n",
      "count     15.000000   15.000000   15.000000  15.000000\n",
      "mean      12.388064    0.836627   14.304709   0.798988\n",
      "std        4.770562    0.042507    7.314085   0.046287\n",
      "min        2.194033    0.743532    1.491129   0.712740\n",
      "25%        9.496942    0.807237    8.943201   0.779372\n",
      "50%       12.865967    0.844086   14.157557   0.816707\n",
      "75%       15.982155    0.873198   19.062112   0.829703\n",
      "max       18.600537    0.892641   26.596150   0.848257\n"
     ]
    },
    {
     "data": {
      "image/png": "[encoded data removed]",
      "text/plain": [
       "<Figure size 640x480 with 1 Axes>"
      ]
     },
     "metadata": {},
     "output_type": "display_data"
    },
    {
     "data": {
      "image/png": "[encoded data removed]",
      "text/plain": [
       "<Figure size 640x480 with 1 Axes>"
      ]
     },
     "metadata": {},
     "output_type": "display_data"
    }
   ],
   "source": [
    "describe_model_stats(history_model1)\n",
    "plot_model(history_model1)"
   ]
  },
  {
   "cell_type": "markdown",
   "metadata": {},
   "source": [
    "# Conclusion"
   ]
  },
  {
   "cell_type": "markdown",
   "metadata": {},
   "source": [
    "With this simple architecture, we already achieve an acceptable accuracy of round 81%.\n",
    "Not bad for our first try.\n",
    "\n",
    "In the live demo, I actually used a more complicated CNN model which achieves over 90% validation accuracy. The training was made possibly by running on a GPU cloud with RTX3090, AMD EPYC Cpu and 83GB of RAM. You can [try them out here - RunPod](https://runpod.io?ref=c7xd5dcy) (my affiliate link)"
   ]
  },
  {
   "cell_type": "markdown",
   "metadata": {},
   "source": [
    "# Acknowledgment"
   ]
  },
  {
   "cell_type": "markdown",
   "metadata": {},
   "source": [
    "I would like to thank [AI VIETNAM](https://www.facebook.com/aivietnam.edu.vn) for providing the basic knowledge about mathematics and machine learning model, and [Valerio Velardo](https://www.youtube.com/@ValerioVelardoTheSoundofAI) for his tutorials about working with sound data. Last but not least, I give my thanks to all the artists whose clips I used in this model which is for educational purpose."
   ]
  }
 ],
 "metadata": {
  "accelerator": "GPU",
  "colab": {
   "collapsed_sections": [
    "8u55lSucyvm1"
   ],
   "provenance": []
  },
  "gpuClass": "standard",
  "kernelspec": {
   "display_name": "base",
   "language": "python",
   "name": "python3"
  },
  "language_info": {
   "codemirror_mode": {
    "name": "ipython",
    "version": 3
   },
   "file_extension": ".py",
   "mimetype": "text/x-python",
   "name": "python",
   "nbconvert_exporter": "python",
   "pygments_lexer": "ipython3",
   "version": "3.10.6 | packaged by conda-forge | (main, Aug 22 2022, 20:41:22) [Clang 13.0.1 ]"
  },
  "vscode": {
   "interpreter": {
    "hash": "90822481fdcfeafb5a9eed02b56dbd016c757fac53e46367957f3dccbe53cd12"
   }
  }
 },
 "nbformat": 4,
 "nbformat_minor": 4
}
